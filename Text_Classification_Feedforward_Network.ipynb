{
 "cells": [
  {
   "cell_type": "markdown",
   "metadata": {},
   "source": [
    "## Text Classification with a Feedforward Network\n",
    "\n",
    "The project performed as an Assignment in Natural Language Processing course at the University of Sheffield.\n",
    "The data is a subset of the [AG News Corpus](http://groups.di.unipi.it/~gulli/AG_corpus_of_news_articles.html)\n",
    "\n",
    "#### Roadmap:\n",
    "\n",
    "- Text processing methods for transforming raw text data into input vectors \n",
    "- A Feedforward network consisting of:\n",
    "    - **One-hot** input layer mapping words into an **Embedding weight matrix** \n",
    "    - **One hidden layer** computing the mean embedding vector of all words in input followed by a **ReLU activation function** \n",
    "    - **Output layer** with a **softmax** activation. \n",
    "- The Stochastic Gradient Descent (SGD) algorithm with **back-propagation** to learn the weights of your Neural network. Your algorithm should:\n",
    "    - Use (and minimise) the **Categorical Cross-entropy loss** function \n",
    "    - Perform a **Forward pass** to compute intermediate outputs\n",
    "    - Perform a **Backward pass** to compute gradients and update all sets of weights\n",
    "    - Implement and use **Dropout** after each hidden layer for regularisation\n",
    "- After training the model, plot the learning process (i.e. training and validation loss in each epoch) using a line plot and report accuracy.\n",
    "- Re-train the network by using pre-trained embeddings ([GloVe](https://nlp.stanford.edu/projects/glove/)) trained on large corpora. Instead of randomly initialising the embedding weights matrix, initialise it with the pre-trained weights.\n",
    "- Extend the Feedforward network by adding more hidden layers (e.g. one more). "
   ]
  },
  {
   "cell_type": "code",
   "execution_count": 1,
   "metadata": {
    "ExecuteTime": {
     "end_time": "2020-04-02T15:00:18.625532Z",
     "start_time": "2020-04-02T15:00:17.377733Z"
    }
   },
   "outputs": [],
   "source": [
    "import pandas as pd\n",
    "import numpy as np\n",
    "from collections import Counter\n",
    "import re\n",
    "import matplotlib.pyplot as plt\n",
    "from sklearn.metrics import accuracy_score, precision_score, recall_score, f1_score\n",
    "import random\n",
    "from time import localtime, strftime\n",
    "from scipy.stats import spearmanr,pearsonr\n",
    "import zipfile\n",
    "import gc\n",
    "\n",
    "# fixing random seed for reproducibility\n",
    "random.seed(123)\n",
    "np.random.seed(123)\n"
   ]
  },
  {
   "cell_type": "markdown",
   "metadata": {},
   "source": [
    "## Transform Raw texts into training and development data"
   ]
  },
  {
   "cell_type": "code",
   "execution_count": 2,
   "metadata": {
    "ExecuteTime": {
     "end_time": "2020-04-02T14:26:39.748484Z",
     "start_time": "2020-04-02T14:26:39.727404Z"
    }
   },
   "outputs": [
    {
     "data": {
      "text/plain": [
       "((2400, 2), (150, 2), (900, 2))"
      ]
     },
     "execution_count": 2,
     "metadata": {},
     "output_type": "execute_result"
    }
   ],
   "source": [
    "train_df = pd.read_csv(\"data_topic/train.csv\", header=None)\n",
    "train_df.columns = ['label', 'text']\n",
    "\n",
    "dev_df = pd.read_csv(\"data_topic/dev.csv\", header=None)\n",
    "dev_df.columns = ['label', 'text']\n",
    "\n",
    "test_df = pd.read_csv(\"data_topic/test.csv\", header=None)\n",
    "test_df.columns = ['label', 'text']\n",
    "\n",
    "train_df.shape, dev_df.shape, test_df.shape"
   ]
  },
  {
   "cell_type": "code",
   "execution_count": 3,
   "metadata": {
    "ExecuteTime": {
     "end_time": "2020-04-02T14:26:39.748484Z",
     "start_time": "2020-04-02T14:26:39.727404Z"
    }
   },
   "outputs": [
    {
     "data": {
      "text/html": [
       "<div>\n",
       "<style scoped>\n",
       "    .dataframe tbody tr th:only-of-type {\n",
       "        vertical-align: middle;\n",
       "    }\n",
       "\n",
       "    .dataframe tbody tr th {\n",
       "        vertical-align: top;\n",
       "    }\n",
       "\n",
       "    .dataframe thead th {\n",
       "        text-align: right;\n",
       "    }\n",
       "</style>\n",
       "<table border=\"1\" class=\"dataframe\">\n",
       "  <thead>\n",
       "    <tr style=\"text-align: right;\">\n",
       "      <th></th>\n",
       "      <th>label</th>\n",
       "      <th>text</th>\n",
       "    </tr>\n",
       "  </thead>\n",
       "  <tbody>\n",
       "    <tr>\n",
       "      <th>0</th>\n",
       "      <td>1</td>\n",
       "      <td>Reuters - Venezuelans turned out early\\and in ...</td>\n",
       "    </tr>\n",
       "    <tr>\n",
       "      <th>1</th>\n",
       "      <td>1</td>\n",
       "      <td>Reuters - South Korean police used water canno...</td>\n",
       "    </tr>\n",
       "    <tr>\n",
       "      <th>2</th>\n",
       "      <td>1</td>\n",
       "      <td>Reuters - Thousands of Palestinian\\prisoners i...</td>\n",
       "    </tr>\n",
       "    <tr>\n",
       "      <th>3</th>\n",
       "      <td>1</td>\n",
       "      <td>AFP - Sporadic gunfire and shelling took place...</td>\n",
       "    </tr>\n",
       "    <tr>\n",
       "      <th>4</th>\n",
       "      <td>1</td>\n",
       "      <td>AP - Dozens of Rwandan soldiers flew into Suda...</td>\n",
       "    </tr>\n",
       "  </tbody>\n",
       "</table>\n",
       "</div>"
      ],
      "text/plain": [
       "   label                                               text\n",
       "0      1  Reuters - Venezuelans turned out early\\and in ...\n",
       "1      1  Reuters - South Korean police used water canno...\n",
       "2      1  Reuters - Thousands of Palestinian\\prisoners i...\n",
       "3      1  AFP - Sporadic gunfire and shelling took place...\n",
       "4      1  AP - Dozens of Rwandan soldiers flew into Suda..."
      ]
     },
     "execution_count": 3,
     "metadata": {},
     "output_type": "execute_result"
    }
   ],
   "source": [
    "train_df.head()"
   ]
  },
  {
   "cell_type": "code",
   "execution_count": 4,
   "metadata": {},
   "outputs": [],
   "source": [
    "X_train_raw = list(train_df.text.values)\n",
    "X_dev_raw = list(dev_df.text.values)\n",
    "X_test_raw = list(test_df.text.values)"
   ]
  },
  {
   "cell_type": "markdown",
   "metadata": {},
   "source": [
    "# Create input representations\n",
    "\n",
    "\"One-hot encoding requires large memory capacity. Therefore, we will instead represent documents as lists of vocabulary indices (each word corresponds to a vocabulary index)\"\n",
    "\n",
    "\n",
    "## Text Pre-Processing Pipeline\n",
    "\n",
    "To obtain a vocabulary of words: \n",
    "- tokenise all texts into a list of unigrams \n",
    "- remove stop words \n",
    "- remove unigrams appearing in less than K documents\n",
    "- use the remaining to create a vocabulary of the top-N most frequent unigrams in the entire corpus"
   ]
  },
  {
   "cell_type": "code",
   "execution_count": 5,
   "metadata": {
    "ExecuteTime": {
     "end_time": "2020-04-02T14:26:40.851926Z",
     "start_time": "2020-04-02T14:26:40.847500Z"
    }
   },
   "outputs": [],
   "source": [
    "stop_words = ['a','in','on','at','and','or', \n",
    "              'to', 'the', 'of', 'an', 'by', \n",
    "              'as', 'is', 'was', 'were', 'been', 'be', \n",
    "              'are','for', 'this', 'that', 'these', 'those', 'you', 'i', 'if',\n",
    "             'it', 'he', 'she', 'we', 'they', 'will', 'have', 'has',\n",
    "              'do', 'did', 'can', 'could', 'who', 'which', 'what',\n",
    "              'but', 'not', 'there', 'no', 'does', 'not', 'so', 've', 'their',\n",
    "             'his', 'her', 'they', 'them', 'from', 'with', 'its']\n"
   ]
  },
  {
   "cell_type": "markdown",
   "metadata": {},
   "source": [
    "### Unigram extraction from a document"
   ]
  },
  {
   "cell_type": "code",
   "execution_count": 6,
   "metadata": {
    "ExecuteTime": {
     "end_time": "2020-04-02T14:26:41.505459Z",
     "start_time": "2020-04-02T14:26:41.498388Z"
    }
   },
   "outputs": [],
   "source": [
    "def extract_ngrams(x_raw, ngram_range=(1,3), token_pattern=r'\\b[A-Za-z][A-Za-z]+\\b', stop_words=[], vocab=set(), capitalisation=True):\n",
    "    \n",
    "    # tokenization\n",
    "    tokens = re.findall(token_pattern, x_raw)\n",
    "    \n",
    "    if capitalisation:\n",
    "        # stop words removal and capitalisation to lower cases\n",
    "        tokens = [word.lower() for word in tokens if word.lower() not in stop_words]\n",
    "    else:\n",
    "        # no capitalisation of the tokens but checking with stoplist should be with capitalisation\n",
    "        tokens = [word for word in tokens if word.lower() not in stop_words]\n",
    "    x = tokens.copy()\n",
    "    \n",
    "    if ngram_range[1] > 1:\n",
    "        for i in range(2,ngram_range[1]+1):\n",
    "            for j in range(len(tokens)):\n",
    "                if len(tokens[j : j+i]) == i:\n",
    "                    x.append(tuple(tokens[j : j+i]))\n",
    "    if len(vocab)>0:\n",
    "        x = [ngram for ngram in x if ngram in vocab]\n",
    "    return x"
   ]
  },
  {
   "cell_type": "markdown",
   "metadata": {},
   "source": [
    "### Create a vocabulary of n-grams\n",
    "\n",
    "The `get_vocab` function will be used to (1) create a vocabulary of ngrams; (2) count the document frequencies of ngrams; (3) their raw frequency. "
   ]
  },
  {
   "cell_type": "code",
   "execution_count": 7,
   "metadata": {
    "ExecuteTime": {
     "end_time": "2020-04-02T14:26:42.563876Z",
     "start_time": "2020-04-02T14:26:42.557967Z"
    }
   },
   "outputs": [],
   "source": [
    "def get_vocab(X_raw, ngram_range=(1,3), token_pattern=r'\\b[A-Za-z][A-Za-z]+\\b', \n",
    "              min_df=0, keep_topN=0, stop_words=[], capitalisation = True):\n",
    "\n",
    "    features_df = []\n",
    "    features_tf =[]\n",
    "    for x_raw in X_raw:\n",
    "        # for ech text extract ngrams in specified range and unite them in one corpus of words\n",
    "        ngrams = extract_ngrams(x_raw, ngram_range=ngram_range, token_pattern = token_pattern, stop_words = stop_words, vocab=set(), capitalisation = capitalisation )\n",
    "        features_tf.extend(ngrams)\n",
    "        features_df.extend(list(set(ngrams)))\n",
    "    print('Number of all ngrams for term frequency calculation: ', len(features_tf))\n",
    "    print('Number of all sets of ngrams for doc frequency calculation: ', len(features_df))\n",
    "    tf = Counter(features_tf)\n",
    "    if keep_topN >0:\n",
    "        vocab = set(dict(tf.most_common(keep_topN)))\n",
    "    else:\n",
    "        vocab = set(tf)\n",
    "    \n",
    "    vocab_features_df = [x for x in features_df if x in vocab] \n",
    "    df = Counter(vocab_features_df)\n",
    "    ngram_counts = [(word, df[word]) for word in df]\n",
    "\n",
    "    return vocab, df, ngram_counts"
   ]
  },
  {
   "cell_type": "code",
   "execution_count": 8,
   "metadata": {},
   "outputs": [
    {
     "data": {
      "text/plain": [
       "'Reuters - Venezuelans turned out early\\\\and in large numbers on Sunday to vote in a historic referendum\\\\that will either remove left-wing President Hugo Chavez from\\\\office or give him a new mandate to govern for the next two\\\\years.'"
      ]
     },
     "execution_count": 8,
     "metadata": {},
     "output_type": "execute_result"
    }
   ],
   "source": [
    "X_train_raw[0]"
   ]
  },
  {
   "cell_type": "code",
   "execution_count": 9,
   "metadata": {
    "ExecuteTime": {
     "end_time": "2020-04-02T14:26:43.577997Z",
     "start_time": "2020-04-02T14:26:43.478950Z"
    }
   },
   "outputs": [
    {
     "name": "stdout",
     "output_type": "stream",
     "text": [
      "Number of all ngrams for term frequency calculation:  53745\n",
      "Number of all sets of ngrams for doc frequency calculation:  51807\n",
      "8931\n",
      "\n",
      "['mainframes', 'germans', 'neither', 'key', 'rolls', 'beefed', 'engine', 'saks', 'area', 'reducing', 'string', 'shiite', 'politician', 'welfare', 'allow', 'wait', 'trends', 'cyril', 'committee', 'slopes', 'illinois', 'alvarez', 'cause', 'entries', 'glaser', 'brings', 'diverse', 'recover', 'shoulder', 'treadmills', 'gran', 'carrier', 'robb', 'keynote', 'breakthrough', 'disclosed', 'paso', 'davis', 'murdoch', 'apple', 'wound', 'contreras', 'kevin', 'ting', 'stumbling', 'researcher', 'set', 'polling', 'conducted', 'ameriquest', 'leaving', 'sporting', 'snow', 'jacques', 'abby', 'capping', 'restated', 'finanziaria', 'enjoyed', 'casualty', 'ice', 'fairchild', 'keep', 'wholesale', 'hotel', 'medals', 'prelims', 'register', 'increasingly', 'myriad', 'dimitris', 'newlywed', 'persons', 'mcip', 'running', 'rib', 'pleaded', 'deflecting', 'play', 'evaluation', 'militiamen', 'drive', 'molik', 'insured', 'mikhail', 'low', 'sing', 'expectation', 'roenick', 'ubiquitous', 'earn', 'learning', 'bullish', 'tilt', 'shrine', 'cantwell', 'foul', 'designate', 'polished', 'forwards']\n",
      "\n",
      "[('reuters', 631), ('said', 432), ('tuesday', 413), ('wednesday', 344), ('new', 325), ('after', 295), ('ap', 275), ('athens', 245), ('monday', 221), ('first', 210)]\n"
     ]
    }
   ],
   "source": [
    "# create the vocabulary and get document and raw frequencies of unigrams\n",
    "\n",
    "#if extract only unigrams, ngram_range=(1,1)\n",
    "vocab, df, ngram_counts = get_vocab(X_train_raw, ngram_range=(1,1), stop_words=stop_words, capitalisation = True)\n",
    "print(len(vocab))\n",
    "print()\n",
    "print(list(vocab)[:100])\n",
    "print()\n",
    "print(df.most_common()[:10])"
   ]
  },
  {
   "cell_type": "code",
   "execution_count": 10,
   "metadata": {
    "ExecuteTime": {
     "end_time": "2020-04-02T14:26:44.069661Z",
     "start_time": "2020-04-02T14:26:44.065058Z"
    }
   },
   "outputs": [
    {
     "data": {
      "text/plain": [
       "8931"
      ]
     },
     "execution_count": 10,
     "metadata": {},
     "output_type": "execute_result"
    }
   ],
   "source": [
    "# create vocabulary id -> word and id -> word dictionaries for reference:\n",
    "dict_id_word = dict(enumerate(vocab))\n",
    "dict_word_id = {value:key for (key, value) in dict_id_word.items()}\n",
    "len(dict_id_word)"
   ]
  },
  {
   "cell_type": "markdown",
   "metadata": {},
   "source": [
    "### Convert the list of unigrams  into a list of vocabulary indices"
   ]
  },
  {
   "cell_type": "code",
   "execution_count": 11,
   "metadata": {
    "ExecuteTime": {
     "end_time": "2020-04-02T14:26:45.047887Z",
     "start_time": "2020-04-02T14:26:44.920631Z"
    }
   },
   "outputs": [
    {
     "data": {
      "text/plain": [
       "(2400, 150, 900)"
      ]
     },
     "execution_count": 11,
     "metadata": {},
     "output_type": "execute_result"
    }
   ],
   "source": [
    "# represent documents in train, dev and test sets as lists of words in the vocabulary:\n",
    "X_uni_train = [extract_ngrams(x, ngram_range=(1,1), stop_words=stop_words, vocab=vocab) for x in X_train_raw]\n",
    "X_uni_dev = [extract_ngrams(x, ngram_range=(1,1), stop_words=stop_words, vocab=vocab) for x in X_dev_raw]\n",
    "X_uni_test = [extract_ngrams(x, ngram_range=(1,1), stop_words=stop_words, vocab=vocab) for x in X_test_raw]\n",
    "\n",
    "len(X_uni_train), len(X_uni_dev), len(X_uni_test)"
   ]
  },
  {
   "cell_type": "code",
   "execution_count": 12,
   "metadata": {},
   "outputs": [
    {
     "data": {
      "text/plain": [
       "['reuters',\n",
       " 'venezuelans',\n",
       " 'turned',\n",
       " 'out',\n",
       " 'early',\n",
       " 'large',\n",
       " 'numbers',\n",
       " 'sunday',\n",
       " 'vote',\n",
       " 'historic',\n",
       " 'referendum',\n",
       " 'either',\n",
       " 'remove',\n",
       " 'left',\n",
       " 'wing',\n",
       " 'president',\n",
       " 'hugo',\n",
       " 'chavez',\n",
       " 'office',\n",
       " 'give',\n",
       " 'him',\n",
       " 'new',\n",
       " 'mandate',\n",
       " 'govern',\n",
       " 'next',\n",
       " 'two',\n",
       " 'years']"
      ]
     },
     "execution_count": 12,
     "metadata": {},
     "output_type": "execute_result"
    }
   ],
   "source": [
    "X_uni_train[0]"
   ]
  },
  {
   "cell_type": "code",
   "execution_count": 13,
   "metadata": {},
   "outputs": [],
   "source": [
    "def convert_words_to_indices(word_list, ref_vocab = dict_word_id):\n",
    "    \"\"\"Convert list of words into list of indices in corresponded vocabulary\"\"\"\n",
    "    indices = [ref_vocab[x] for x in word_list]\n",
    "    return indices"
   ]
  },
  {
   "cell_type": "code",
   "execution_count": 14,
   "metadata": {},
   "outputs": [
    {
     "data": {
      "text/plain": [
       "[1601,\n",
       " 7393,\n",
       " 4634,\n",
       " 6443,\n",
       " 7438,\n",
       " 5441,\n",
       " 835,\n",
       " 7992,\n",
       " 1718,\n",
       " 8165,\n",
       " 6797,\n",
       " 5910,\n",
       " 5808,\n",
       " 6566,\n",
       " 1908,\n",
       " 417,\n",
       " 6878,\n",
       " 8562,\n",
       " 4899,\n",
       " 7085,\n",
       " 7755,\n",
       " 5006,\n",
       " 8831,\n",
       " 8311,\n",
       " 5739,\n",
       " 3662,\n",
       " 4978]"
      ]
     },
     "execution_count": 14,
     "metadata": {},
     "output_type": "execute_result"
    }
   ],
   "source": [
    "convert_words_to_indices(X_uni_train[0])"
   ]
  },
  {
   "cell_type": "code",
   "execution_count": 15,
   "metadata": {},
   "outputs": [
    {
     "data": {
      "text/plain": [
       "(2400, 150, 900)"
      ]
     },
     "execution_count": 15,
     "metadata": {},
     "output_type": "execute_result"
    }
   ],
   "source": [
    "X_tr = [convert_words_to_indices(x) for x in X_uni_train]\n",
    "X_dev = [convert_words_to_indices(x) for x in X_uni_dev]\n",
    "X_te = [convert_words_to_indices(x) for x in X_uni_test]\n",
    "len(X_tr), len(X_dev), len(X_te)"
   ]
  },
  {
   "cell_type": "code",
   "execution_count": 16,
   "metadata": {
    "ExecuteTime": {
     "end_time": "2020-04-02T15:03:13.183996Z",
     "start_time": "2020-04-02T15:03:13.077575Z"
    }
   },
   "outputs": [],
   "source": [
    "Y_tr = train_df.label.values\n",
    "Y_dev = dev_df.label.values\n",
    "Y_te = test_df.label.values"
   ]
  },
  {
   "cell_type": "markdown",
   "metadata": {},
   "source": [
    "## Network Training"
   ]
  },
  {
   "cell_type": "code",
   "execution_count": 17,
   "metadata": {
    "ExecuteTime": {
     "end_time": "2020-04-02T15:09:10.086665Z",
     "start_time": "2020-04-02T15:09:10.083429Z"
    }
   },
   "outputs": [],
   "source": [
    "def network_weights(vocab_size=1000, embedding_dim=300, \n",
    "                    hidden_dim=[], num_classes=3, init_val = 0.5):\n",
    "    \n",
    "    np.random.seed(123)\n",
    "    layer_index=0\n",
    "    W={}\n",
    "    W[layer_index] = np.float32(np.random.uniform(low = -0.1, high = 0.1, size=(vocab_size, embedding_dim))) \n",
    "    \n",
    "    if len(hidden_dim)>0:\n",
    "        for layer_size in hidden_dim:\n",
    "            layer_index+=1\n",
    "            W[layer_index] =  np.float32(np.random.uniform(low = -0.1, high = 0.1, \n",
    "                                                           size=(W[layer_index-1].shape[1] , layer_size)))\n",
    "    \n",
    "    W[layer_index+1]= np.float32(np.random.uniform(low = -0.1, high = 0.1, \n",
    "                                                           size=(W[layer_index].shape[1], num_classes)))\n",
    "\n",
    "    return W"
   ]
  },
  {
   "cell_type": "code",
   "execution_count": 18,
   "metadata": {
    "ExecuteTime": {
     "end_time": "2020-04-02T14:26:48.143236Z",
     "start_time": "2020-04-02T14:26:48.139381Z"
    }
   },
   "outputs": [
    {
     "name": "stdout",
     "output_type": "stream",
     "text": [
      "W_emb: (5, 10)\n",
      "W_out: (10, 2)\n"
     ]
    }
   ],
   "source": [
    "W = network_weights(vocab_size=5,embedding_dim=10,hidden_dim=[], num_classes=2)\n",
    "\n",
    "print('W_emb:', W[0].shape)\n",
    "print('W_out:', W[1].shape)"
   ]
  },
  {
   "cell_type": "code",
   "execution_count": 19,
   "metadata": {
    "ExecuteTime": {
     "end_time": "2020-04-02T14:26:48.636732Z",
     "start_time": "2020-04-02T14:26:48.634122Z"
    }
   },
   "outputs": [
    {
     "name": "stdout",
     "output_type": "stream",
     "text": [
      "W_emb: (3, 4)\n",
      "W_h1: (4, 2)\n",
      "W_out: (2, 2)\n"
     ]
    }
   ],
   "source": [
    "W = network_weights(vocab_size=3,embedding_dim=4,hidden_dim=[2], num_classes=2)\n",
    "\n",
    "W = network_weights(vocab_size=3,embedding_dim=4,hidden_dim=[2], num_classes=2)\n",
    "print('W_emb:', W[0].shape)\n",
    "print('W_h1:', W[1].shape)\n",
    "print('W_out:', W[2].shape)"
   ]
  },
  {
   "cell_type": "code",
   "execution_count": 20,
   "metadata": {
    "ExecuteTime": {
     "end_time": "2020-04-02T14:26:50.504086Z",
     "start_time": "2020-04-02T14:26:50.500686Z"
    }
   },
   "outputs": [],
   "source": [
    "def softmax(z):\n",
    "    \n",
    "    z_exp = np.exp(z)\n",
    "    sig = z_exp/ z_exp.sum()\n",
    "    \n",
    "    return sig"
   ]
  },
  {
   "cell_type": "code",
   "execution_count": 21,
   "metadata": {
    "ExecuteTime": {
     "end_time": "2020-04-02T14:26:51.360838Z",
     "start_time": "2020-04-02T14:26:51.356935Z"
    }
   },
   "outputs": [],
   "source": [
    "def sparse_y(Y, num_classes):\n",
    "    \"\"\"Transforms 1D numpy array Y into array [len(Y), num_classes]\"\"\"\n",
    "    Y_sparse = np.zeros([len(Y), num_classes])\n",
    "    for i in range(len(Y)):\n",
    "        # take into accoount that label classes are from 1, and python indexes is from 0\n",
    "        Y_sparse[i, Y[i] - 1] = 1\n",
    "    return Y_sparse\n",
    "\n",
    "\n",
    "def categorical_loss(Y_sparse, Y_preds_proba):\n",
    "    \"\"\"Calculates categorical loss between two numpy arrays:\n",
    "    Y_sparse - sparsed form of array of class label\n",
    "    ! if we need to deal onle with one sample, Y_sparse must be in the form [1, num_classes]\n",
    "    Y_preds_proba stores probabilities of each class label and is the result of softmax function\"\"\"\n",
    "    \n",
    "    l = - np.sum(Y_sparse * np.log(Y_preds_proba))\n",
    "    \n",
    "    return l / Y_sparse.shape[0]"
   ]
  },
  {
   "cell_type": "code",
   "execution_count": 22,
   "metadata": {},
   "outputs": [
    {
     "name": "stdout",
     "output_type": "stream",
     "text": [
      "y_preds:  [0.01217919 0.27035308 0.24462558 0.02710529 0.44573687]\n",
      "loss: 1.3080264848567502\n"
     ]
    }
   ],
   "source": [
    "# example for 5 classes\n",
    "\n",
    "y = 2 # true label corresponds to the second element of the array y_pred_proba \n",
    "# which is y_pred_proba[1] and corresponds to y_pred_proba[2-1]\n",
    "\n",
    "\n",
    "# to calculate categorical loss we need to transform y into sparse array \n",
    "# y should be a list or array, not a single number\n",
    "\n",
    "y_sparse = sparse_y([y],5)\n",
    "y_preds = softmax(np.array([[-2.1,1.,0.9,-1.3,1.5]]))[0]\n",
    "\n",
    "print('y_preds: ', y_preds)\n",
    "print('loss:', categorical_loss(y_sparse, y_preds))"
   ]
  },
  {
   "cell_type": "markdown",
   "metadata": {
    "ExecuteTime": {
     "end_time": "2020-03-31T15:02:56.149535Z",
     "start_time": "2020-03-31T15:02:56.145738Z"
    }
   },
   "source": [
    "The `relu` function is used to introduce non-linearity after each hidden layer of your network (during the forward pass): \n",
    "\n",
    "$$relu(z_i)= max(z_i,0)$$\n",
    "\n",
    "and the `relu_derivative` function to compute its derivative (used in the backward pass):\n",
    "\n",
    "\\begin{equation}\n",
    "  \\text{relu_derivative}(z_i)=\\begin{cases}\n",
    "    0, & \\text{if $z_i<=0$}.\\\\\n",
    "    1, & \\text{otherwise}.\n",
    "  \\end{cases}\n",
    "\\end{equation}"
   ]
  },
  {
   "cell_type": "code",
   "execution_count": 23,
   "metadata": {
    "ExecuteTime": {
     "end_time": "2020-04-02T14:26:52.665236Z",
     "start_time": "2020-04-02T14:26:52.661519Z"
    }
   },
   "outputs": [],
   "source": [
    "def relu(z):\n",
    "    a = np.where(z >0, z, 0)\n",
    "    # a = np.maximum(z, 0)\n",
    "    return a\n",
    "    \n",
    "def relu_derivative(z):\n",
    "    dz = np.where(z <=0, 0, 1)\n",
    "    return dz"
   ]
  },
  {
   "cell_type": "code",
   "execution_count": 24,
   "metadata": {
    "ExecuteTime": {
     "end_time": "2020-04-02T14:26:53.429192Z",
     "start_time": "2020-04-02T14:26:53.425301Z"
    }
   },
   "outputs": [],
   "source": [
    "def dropout_mask(size, dropout_rate):\n",
    "    \n",
    "    dropout_vec = np.ones(size)\n",
    "    \n",
    "    #randomly generate indexes of elements which will be set to 0\n",
    "    indexes = np.arange(size)\n",
    "    np.random.shuffle(indexes)\n",
    "    zero_indexes = indexes[:int(size*dropout_rate)]\n",
    "    dropout_vec[zero_indexes]=0\n",
    "\n",
    "    return dropout_vec"
   ]
  },
  {
   "cell_type": "code",
   "execution_count": 25,
   "metadata": {},
   "outputs": [
    {
     "name": "stdout",
     "output_type": "stream",
     "text": [
      "[1. 1. 1. 1. 1. 1. 1. 1. 0. 0.]\n",
      "[1. 0. 1. 1. 1. 1. 1. 0. 1. 1.]\n"
     ]
    }
   ],
   "source": [
    "print(dropout_mask(10, 0.2))\n",
    "print(dropout_mask(10, 0.2))"
   ]
  },
  {
   "cell_type": "code",
   "execution_count": 26,
   "metadata": {},
   "outputs": [],
   "source": [
    "def forward_pass(x, W, dropout_rate=0.2):\n",
    "    out_vals = {}\n",
    "\n",
    "    h_vecs = []\n",
    "    a_vecs = []\n",
    "    dropout_vecs = []\n",
    "\n",
    "    W_0 = W[0][x, :]\n",
    "    a0 = np.ones([1, W_0.shape[0]]) / len(x)\n",
    "    a_vecs.append(a0)\n",
    "    h1 = np.dot(a0, W_0)\n",
    "    h_vecs.append(h1)\n",
    "    dropout = dropout_mask(h1.shape[1], dropout_rate)\n",
    "    dropout_vecs.append(dropout)\n",
    "    \n",
    "    a1 = relu(h1.copy())*dropout\n",
    "    a_vecs.append(a1)\n",
    "    \n",
    "    # hidden layers\n",
    "    if len(W)>1:\n",
    "        for i in range(2,len(W)):\n",
    "            h = np.dot(a_vecs[-1], W[i-1])\n",
    "            h_vecs.append(h)\n",
    "            #a = relu(h.copy())\n",
    "            dropout = dropout_mask(h.shape[1], dropout_rate)\n",
    "        \n",
    "            dropout_vecs.append(dropout)\n",
    "            a = relu(h.copy())*dropout\n",
    "            a_vecs.append(a)\n",
    "\n",
    "    # output_layer\n",
    "    h2 = np.dot(a_vecs[-1], W[len(W) - 1])\n",
    "    h_vecs.append(h2)\n",
    "    a2 = relu(h2.copy())\n",
    "    a_vecs.append(a2)\n",
    "\n",
    "    y_pred = softmax(a2.copy())\n",
    "\n",
    "    out_vals['h'] = h_vecs\n",
    "    out_vals['a'] = a_vecs\n",
    "    out_vals['dropout_vec'] = dropout_vecs\n",
    "    out_vals['y'] = y_pred\n",
    "\n",
    "    return out_vals"
   ]
  },
  {
   "cell_type": "code",
   "execution_count": 27,
   "metadata": {},
   "outputs": [
    {
     "name": "stdout",
     "output_type": "stream",
     "text": [
      "Shape W0 (3, 4)\n",
      "Shape W1 (4, 5)\n",
      "Shape W2 (5, 2)\n",
      "{'h': [array([[ 0.02004009, -0.0184776 ,  0.03239422,  0.04138795]]), array([[ 0.00120801, -0.00104551,  0.00103254, -0.00019313, -0.00216803]]), array([[-1.52089800e-05,  8.12376681e-05]])], 'a': [array([[0.5, 0.5]]), array([[0.02004009, 0.        , 0.03239422, 0.        ]]), array([[0.        , 0.        , 0.00103254, 0.        , 0.        ]]), array([[0.00000000e+00, 8.12376681e-05]])], 'dropout_vec': [array([1., 0., 1., 0.]), array([0., 1., 1., 1., 0.])], 'y': array([[0.49997969, 0.50002031]])}\n"
     ]
    }
   ],
   "source": [
    "W = network_weights(vocab_size=3, embedding_dim=4,hidden_dim=[5], num_classes=2)\n",
    "\n",
    "for i in range(len(W)):\n",
    "    print('Shape W'+str(i), W[i].shape)\n",
    "out = forward_pass([2,1], W, dropout_rate=0.5)\n",
    "print(out)"
   ]
  },
  {
   "cell_type": "code",
   "execution_count": 28,
   "metadata": {},
   "outputs": [],
   "source": [
    "def backward_pass_simple(x, y_sparse, W, out_values, lr=0.001, freeze_emb=False):\n",
    "\n",
    "    dl = out_values[\"y\"]- y_sparse\n",
    "    delta1 = dl * relu_derivative(out_values['h'][1])[0]\n",
    "\n",
    "    gradW2 = np.dot(out_values[\"a\"][1].T, delta1.reshape(1, -1))\n",
    "\n",
    "    if freeze_emb == False:\n",
    "        deltas2 = np.dot(delta1, W[1].T) * relu_derivative(out_values['h'][0])\n",
    "        gradW1 = np.dot(out_values[\"a\"][0].T, deltas2) * len(x)\n",
    "        W[0][x, :] -= lr * gradW1\n",
    "\n",
    "    W[1] -= lr * gradW2\n",
    "\n",
    "    return W"
   ]
  },
  {
   "cell_type": "code",
   "execution_count": 29,
   "metadata": {
    "ExecuteTime": {
     "end_time": "2020-04-02T14:26:56.225630Z",
     "start_time": "2020-04-02T14:26:56.216508Z"
    }
   },
   "outputs": [],
   "source": [
    "# the code for backward_pass is inspired by posts below:\n",
    "# http://neuralnetworksanddeeplearning.com/chap2.html\n",
    "# https://medium.com/@a.mirzaei69/implement-a-neural-network-from-scratch-with-python-numpy-backpropagation-e82b70caa9bb\n",
    "\n",
    "def backward_pass_complex(x, y_sparse, W, out_vals, lr=0.001, freeze_emb=False):\n",
    "    \n",
    "    deltas = [None] * len(W) \n",
    "    gradW = [None] * len(W) \n",
    "    \n",
    "    # outer layer\n",
    "    dl = out_vals[\"y\"] - y_sparse\n",
    "    deltas[-1] = dl * relu_derivative(out_vals['h'][-1])[0]\n",
    "    gradW[-1] = np.dot(out_vals[\"a\"][len(W)-1].T, deltas[-1].reshape(1, -1))\n",
    "\n",
    "    # hidden layers\n",
    "    for i in reversed(range(1, len(W)-1)):        \n",
    "        deltas[i] = np.dot(deltas[i+1], W[i+1].T)*relu_derivative(out_vals['h'][i])\n",
    "        W[i+1] -= lr*gradW[i+1]\n",
    "        gradW[i] = np.dot(out_vals[\"a\"][i-1].T, deltas[i])\n",
    "\n",
    "    # input layer W[0] = embeddings\n",
    "    if freeze_emb == False:\n",
    "        deltas[0] = np.dot(deltas[1], W[1].T) * relu_derivative(out_vals['h'][0])\n",
    "        gradW[0] = np.dot(out_vals[\"a\"][0].T, deltas[0]) * len(x)\n",
    "        W[0][x, :] -= lr * gradW[0]\n",
    "    # the weights for output layer are updated in the last rutn because they participate in other steps \n",
    "    W[len(W)-1] -= lr * gradW[-1]\n",
    "    \n",
    "    return W"
   ]
  },
  {
   "cell_type": "code",
   "execution_count": 30,
   "metadata": {
    "ExecuteTime": {
     "end_time": "2020-04-02T15:09:19.021428Z",
     "start_time": "2020-04-02T15:09:19.017835Z"
    }
   },
   "outputs": [],
   "source": [
    "def SGD(X_tr, Y_tr, W, X_dev=[], Y_dev=[], num_classes=3, lr=0.001,\n",
    "        dropout=0.2, epochs=5, tolerance=0.001, freeze_emb=False, print_progress=True):\n",
    "\n",
    "    cur_loss_tr = 1.\n",
    "    cur_loss_dev = 1.\n",
    "    training_loss_history = []\n",
    "    validation_loss_history = []\n",
    "\n",
    "    weights = W.copy()\n",
    "\n",
    "    Y_tr_sparse = sparse_y(Y_tr, num_classes)\n",
    "    Y_dev_sparse = sparse_y(Y_dev, num_classes)\n",
    "\n",
    "    np.random.seed(123)\n",
    "    indexes = np.arange(len(X_tr))\n",
    "\n",
    "    for epoch in range(epochs):\n",
    "\n",
    "        loss = 0\n",
    "        np.random.shuffle(indexes)\n",
    "\n",
    "        for i in indexes:\n",
    "            x_tr_sgd = X_tr[i]  # one list of words\n",
    "            y_tr_sgd = Y_tr_sparse[i].reshape(1, num_classes)\n",
    "\n",
    "            out_values = forward_pass(x_tr_sgd, weights, dropout_rate=0.5)\n",
    "            y_pred_sgd = out_values['y']\n",
    "\n",
    "            l = categorical_loss(y_tr_sgd, y_pred_sgd)\n",
    "            loss += l\n",
    "\n",
    "            weights = backward_pass_complex(x_tr_sgd, y_tr_sgd, weights, out_values, lr=lr, freeze_emb=False)\n",
    "\n",
    "        y_preds_tr = np.concatenate([forward_pass(x, W, dropout_rate=0.0)['y'] for x in X_tr])\n",
    "        y_preds_dev = np.concatenate([forward_pass(x, W, dropout_rate=0.0)['y'] for x in X_dev])\n",
    "\n",
    "        cur_loss_tr = categorical_loss(Y_tr_sparse, y_preds_tr)\n",
    "        cur_loss_dev = categorical_loss(Y_dev_sparse, y_preds_dev)\n",
    "\n",
    "        training_loss_history.append(cur_loss_tr)\n",
    "        validation_loss_history.append(cur_loss_dev)\n",
    "        #         print(\"Current loss train:\", cur_loss_tr/len(y_preds_tr))\n",
    "        if print_progress:\n",
    "            print(\"Epoch %i: | Training loss: %f, | Validation loss: %f\" % (\n",
    "            epoch, training_loss_history[-1], validation_loss_history[-1]))\n",
    "\n",
    "        if epoch > 1:\n",
    "            if abs(cur_loss_dev - validation_loss_history[epoch - 1]) <= tolerance:\n",
    "                print(\"Convergence at epoch %i for tolerance = %f has been reached\" % (epoch, tolerance))\n",
    "                break\n",
    "        else:\n",
    "            continue\n",
    "\n",
    "    return W, training_loss_history, validation_loss_history"
   ]
  },
  {
   "cell_type": "code",
   "execution_count": 31,
   "metadata": {},
   "outputs": [],
   "source": [
    "import time"
   ]
  },
  {
   "cell_type": "code",
   "execution_count": 32,
   "metadata": {
    "ExecuteTime": {
     "end_time": "2020-04-02T15:09:33.643515Z",
     "start_time": "2020-04-02T15:09:33.640943Z"
    }
   },
   "outputs": [
    {
     "name": "stdout",
     "output_type": "stream",
     "text": [
      "Shape W0 (8931, 30)\n",
      "Shape W1 (30, 3)\n",
      "CPU times: user 6.16 ms, sys: 3.27 ms, total: 9.44 ms\n",
      "Wall time: 7.81 ms\n"
     ]
    }
   ],
   "source": [
    "%%time\n",
    "W = network_weights(vocab_size=len(vocab), embedding_dim=30, hidden_dim=[], num_classes=3)\n",
    "\n",
    "for i in range(len(W)):\n",
    "    print('Shape W'+str(i), W[i].shape)"
   ]
  },
  {
   "cell_type": "code",
   "execution_count": 33,
   "metadata": {
    "ExecuteTime": {
     "end_time": "2020-04-02T15:09:33.643515Z",
     "start_time": "2020-04-02T15:09:33.640943Z"
    }
   },
   "outputs": [
    {
     "name": "stdout",
     "output_type": "stream",
     "text": [
      "Epoch 0: | Training loss: 1.096446, | Validation loss: 1.097390\n",
      "Epoch 1: | Training loss: 1.090711, | Validation loss: 1.093883\n",
      "Epoch 2: | Training loss: 1.073783, | Validation loss: 1.083357\n",
      "Epoch 3: | Training loss: 1.026510, | Validation loss: 1.052694\n",
      "Epoch 4: | Training loss: 0.919676, | Validation loss: 0.978825\n",
      "Epoch 5: | Training loss: 0.766042, | Validation loss: 0.853563\n",
      "Epoch 6: | Training loss: 0.623034, | Validation loss: 0.699538\n",
      "Epoch 7: | Training loss: 0.500173, | Validation loss: 0.539626\n",
      "Epoch 8: | Training loss: 0.392758, | Validation loss: 0.405658\n",
      "Epoch 9: | Training loss: 0.325636, | Validation loss: 0.325959\n",
      "Epoch 10: | Training loss: 0.284582, | Validation loss: 0.286619\n",
      "Epoch 11: | Training loss: 0.260104, | Validation loss: 0.261910\n",
      "Epoch 12: | Training loss: 0.232606, | Validation loss: 0.252399\n",
      "Epoch 13: | Training loss: 0.205439, | Validation loss: 0.249132\n",
      "Epoch 14: | Training loss: 0.184835, | Validation loss: 0.256062\n",
      "Epoch 15: | Training loss: 0.169473, | Validation loss: 0.254227\n",
      "Epoch 16: | Training loss: 0.157372, | Validation loss: 0.249631\n",
      "Epoch 17: | Training loss: 0.135194, | Validation loss: 0.256783\n",
      "Epoch 18: | Training loss: 0.121123, | Validation loss: 0.263077\n",
      "Epoch 19: | Training loss: 0.113651, | Validation loss: 0.264256\n",
      "Epoch 20: | Training loss: 0.107294, | Validation loss: 0.269908\n",
      "Epoch 21: | Training loss: 0.101240, | Validation loss: 0.266935\n",
      "Epoch 22: | Training loss: 0.095465, | Validation loss: 0.266770\n",
      "Convergence at epoch 22 for tolerance = 0.001000 has been reached\n"
     ]
    }
   ],
   "source": [
    "W, loss_tr, dev_loss = SGD(X_tr, Y_tr, W, X_dev=X_dev, Y_dev=Y_dev, lr=0.01, dropout=0.2, freeze_emb=False, \n",
    "                           tolerance=0.001, epochs=100, print_progress=True)"
   ]
  },
  {
   "cell_type": "code",
   "execution_count": 34,
   "metadata": {},
   "outputs": [],
   "source": [
    "def plot_model_loss(loss_tr, dev_loss, scale_y = False, ylim = (0,1), text_to_print = [], print_last_values = False):\n",
    "    plt.plot(np.arange(len(loss_tr)),loss_tr,'b', label ='Training loss')\n",
    "    plt.plot(np.arange(len(dev_loss)),dev_loss,'r', label ='Validation loss')\n",
    "    if len(text_to_print)>0:\n",
    "        plt.title('Training monitoring ' +str(text_to_print))\n",
    "    else:\n",
    "        plt.title('Training monitoring')\n",
    "    plt.xlabel('epoch')\n",
    "    if scale_y:\n",
    "        plt.ylim(ylim)\n",
    "    plt.ylabel('Loss')\n",
    "    plt.legend();\n",
    "    plt.show()\n",
    "    if print_last_values:\n",
    "        print(\"\\nTraining loss:\", loss_tr[-4:])\n",
    "        print(\"Validation loss:\", dev_loss[-4:])"
   ]
  },
  {
   "cell_type": "code",
   "execution_count": 35,
   "metadata": {
    "ExecuteTime": {
     "end_time": "2020-04-02T14:27:15.716497Z",
     "start_time": "2020-04-02T14:27:15.612736Z"
    }
   },
   "outputs": [
    {
     "data": {
      "image/png": "[encoded data removed]",
      "text/plain": [
       "<Figure size 432x288 with 1 Axes>"
      ]
     },
     "metadata": {
      "needs_background": "light"
     },
     "output_type": "display_data"
    },
    {
     "name": "stdout",
     "output_type": "stream",
     "text": [
      "\n",
      "Training loss: [0.11365056600895664, 0.1072935893703263, 0.10124046815063509, 0.09546521768479244]\n",
      "Validation loss: [0.26425553151279, 0.2699077708999427, 0.2669347843376789, 0.26676996637843287]\n"
     ]
    }
   ],
   "source": [
    "# plot the learning process\n",
    "plot_model_loss(loss_tr, dev_loss, text_to_print = \"with Average Embedding\", print_last_values=True)"
   ]
  },
  {
   "cell_type": "markdown",
   "metadata": {},
   "source": [
    "Compute accuracy, precision, recall and F1-Score:"
   ]
  },
  {
   "cell_type": "code",
   "execution_count": 36,
   "metadata": {
    "ExecuteTime": {
     "end_time": "2020-04-02T15:10:11.037495Z",
     "start_time": "2020-04-02T15:10:11.034999Z"
    }
   },
   "outputs": [
    {
     "name": "stdout",
     "output_type": "stream",
     "text": [
      "Accuracy: 0.8644444444444445\n",
      "Precision: 0.8648655570036395\n",
      "Recall: 0.8644444444444445\n",
      "F1-Score: 0.8639921854687719\n"
     ]
    }
   ],
   "source": [
    "# provided code for preds_te appeared to be wrong\n",
    "# preds_te = [np.argmax(forward_pass(x, W, dropout_rate=0.0)['y']) for x,y in zip(X_te,Y_te)]\n",
    "\n",
    "preds_te = [np.argmax(forward_pass(x, W, dropout_rate=0.0)['y'][0])+1 for x in X_te]\n",
    "print('Accuracy:', accuracy_score(Y_te, preds_te))\n",
    "print('Precision:', precision_score(Y_te, preds_te, average='macro'))\n",
    "print('Recall:', recall_score(Y_te, preds_te, average='macro'))\n",
    "print('F1-Score:', f1_score(Y_te, preds_te, average='macro'))"
   ]
  },
  {
   "cell_type": "markdown",
   "metadata": {},
   "source": [
    "## Choosing model hyperparameters"
   ]
  },
  {
   "cell_type": "code",
   "execution_count": 37,
   "metadata": {},
   "outputs": [
    {
     "name": "stdout",
     "output_type": "stream",
     "text": [
      "\n",
      "Embedding size is: 30\n",
      "Epoch 0: | Training loss: 1.096446, | Validation loss: 1.097390\n",
      "Epoch 1: | Training loss: 1.090711, | Validation loss: 1.093883\n",
      "Epoch 2: | Training loss: 1.073783, | Validation loss: 1.083357\n",
      "Epoch 3: | Training loss: 1.026510, | Validation loss: 1.052694\n",
      "Epoch 4: | Training loss: 0.919676, | Validation loss: 0.978825\n",
      "Epoch 5: | Training loss: 0.766042, | Validation loss: 0.853563\n",
      "Epoch 6: | Training loss: 0.623034, | Validation loss: 0.699538\n",
      "Epoch 7: | Training loss: 0.500173, | Validation loss: 0.539626\n",
      "Epoch 8: | Training loss: 0.392758, | Validation loss: 0.405658\n",
      "Epoch 9: | Training loss: 0.325636, | Validation loss: 0.325959\n",
      "Epoch 10: | Training loss: 0.284582, | Validation loss: 0.286619\n",
      "Epoch 11: | Training loss: 0.260104, | Validation loss: 0.261910\n",
      "Epoch 12: | Training loss: 0.232606, | Validation loss: 0.252399\n",
      "Convergence at epoch 12 for tolerance = 0.010000 has been reached\n"
     ]
    },
    {
     "data": {
      "image/png": "[encoded data removed]",
      "text/plain": [
       "<Figure size 432x288 with 1 Axes>"
      ]
     },
     "metadata": {
      "needs_background": "light"
     },
     "output_type": "display_data"
    },
    {
     "name": "stdout",
     "output_type": "stream",
     "text": [
      "\n",
      "Training loss: [0.3256357622512659, 0.2845815431368538, 0.2601044797733117, 0.23260565620022178]\n",
      "Validation loss: [0.3259588994312299, 0.286619116275301, 0.2619101575089475, 0.25239897848443915]\n",
      "\n",
      "Embedding size is: 50\n",
      "Epoch 0: | Training loss: 1.095589, | Validation loss: 1.096930\n",
      "Epoch 1: | Training loss: 1.086247, | Validation loss: 1.091053\n",
      "Epoch 2: | Training loss: 1.059520, | Validation loss: 1.073589\n",
      "Epoch 3: | Training loss: 0.988496, | Validation loss: 1.025849\n",
      "Epoch 4: | Training loss: 0.847249, | Validation loss: 0.921682\n",
      "Epoch 5: | Training loss: 0.684878, | Validation loss: 0.769112\n",
      "Epoch 6: | Training loss: 0.551786, | Validation loss: 0.606474\n",
      "Epoch 7: | Training loss: 0.429824, | Validation loss: 0.450720\n",
      "Epoch 8: | Training loss: 0.344023, | Validation loss: 0.347252\n",
      "Epoch 9: | Training loss: 0.288240, | Validation loss: 0.292269\n",
      "Epoch 10: | Training loss: 0.247966, | Validation loss: 0.269061\n",
      "Epoch 11: | Training loss: 0.213270, | Validation loss: 0.258977\n",
      "Epoch 12: | Training loss: 0.185642, | Validation loss: 0.250859\n",
      "Convergence at epoch 12 for tolerance = 0.010000 has been reached\n"
     ]
    },
    {
     "data": {
      "image/png": "[encoded data removed]",
      "text/plain": [
       "<Figure size 432x288 with 1 Axes>"
      ]
     },
     "metadata": {
      "needs_background": "light"
     },
     "output_type": "display_data"
    },
    {
     "name": "stdout",
     "output_type": "stream",
     "text": [
      "\n",
      "Training loss: [0.28823976577795024, 0.24796564358169065, 0.21327014680602993, 0.1856422372182971]\n",
      "Validation loss: [0.2922688114249725, 0.26906074141922676, 0.25897743935022355, 0.2508585909323088]\n",
      "\n",
      "Embedding size is: 100\n",
      "Epoch 0: | Training loss: 1.092138, | Validation loss: 1.094717\n",
      "Epoch 1: | Training loss: 1.073322, | Validation loss: 1.082720\n",
      "Epoch 2: | Training loss: 1.021812, | Validation loss: 1.049429\n",
      "Epoch 3: | Training loss: 0.905297, | Validation loss: 0.967682\n",
      "Epoch 4: | Training loss: 0.742745, | Validation loss: 0.830161\n",
      "Epoch 5: | Training loss: 0.606326, | Validation loss: 0.672266\n",
      "Epoch 6: | Training loss: 0.482776, | Validation loss: 0.514035\n",
      "Epoch 7: | Training loss: 0.369357, | Validation loss: 0.379155\n",
      "Epoch 8: | Training loss: 0.299611, | Validation loss: 0.306425\n",
      "Epoch 9: | Training loss: 0.253730, | Validation loss: 0.271478\n",
      "Epoch 10: | Training loss: 0.217043, | Validation loss: 0.256966\n",
      "Epoch 11: | Training loss: 0.184547, | Validation loss: 0.251048\n",
      "Convergence at epoch 11 for tolerance = 0.010000 has been reached\n"
     ]
    },
    {
     "data": {
      "image/png": "[encoded data removed]",
      "text/plain": [
       "<Figure size 432x288 with 1 Axes>"
      ]
     },
     "metadata": {
      "needs_background": "light"
     },
     "output_type": "display_data"
    },
    {
     "name": "stdout",
     "output_type": "stream",
     "text": [
      "\n",
      "Training loss: [0.29961143366090415, 0.2537298268489014, 0.2170429900083327, 0.1845465013355109]\n",
      "Validation loss: [0.3064254939709192, 0.27147769904968216, 0.2569657695431468, 0.2510477204801671]\n",
      "\n",
      "Embedding size is: 300\n",
      "Epoch 0: | Training loss: 1.079229, | Validation loss: 1.085931\n",
      "Epoch 1: | Training loss: 1.025855, | Validation loss: 1.051119\n",
      "Epoch 2: | Training loss: 0.907548, | Validation loss: 0.968199\n",
      "Epoch 3: | Training loss: 0.726532, | Validation loss: 0.818235\n",
      "Epoch 4: | Training loss: 0.553646, | Validation loss: 0.630753\n",
      "Epoch 5: | Training loss: 0.417407, | Validation loss: 0.463510\n",
      "Epoch 6: | Training loss: 0.331432, | Validation loss: 0.353818\n",
      "Epoch 7: | Training loss: 0.272894, | Validation loss: 0.302715\n",
      "Epoch 8: | Training loss: 0.232132, | Validation loss: 0.272257\n",
      "Epoch 9: | Training loss: 0.193700, | Validation loss: 0.262451\n",
      "Convergence at epoch 9 for tolerance = 0.010000 has been reached\n"
     ]
    },
    {
     "data": {
      "image/png": "[encoded data removed]",
      "text/plain": [
       "<Figure size 432x288 with 1 Axes>"
      ]
     },
     "metadata": {
      "needs_background": "light"
     },
     "output_type": "display_data"
    },
    {
     "name": "stdout",
     "output_type": "stream",
     "text": [
      "\n",
      "Training loss: [0.33143175132558145, 0.2728944560213631, 0.23213225394362463, 0.19370021413968133]\n",
      "Validation loss: [0.3538176818711086, 0.302714980761382, 0.27225665556037154, 0.26245077712754256]\n",
      "\n",
      "Embedding size is: 500\n",
      "Epoch 0: | Training loss: 1.065623, | Validation loss: 1.078495\n",
      "Epoch 1: | Training loss: 0.982637, | Validation loss: 1.024206\n",
      "Epoch 2: | Training loss: 0.823272, | Validation loss: 0.906978\n",
      "Epoch 3: | Training loss: 0.629825, | Validation loss: 0.725390\n",
      "Epoch 4: | Training loss: 0.468756, | Validation loss: 0.532069\n",
      "Epoch 5: | Training loss: 0.360378, | Validation loss: 0.395236\n",
      "Epoch 6: | Training loss: 0.291956, | Validation loss: 0.323174\n",
      "Epoch 7: | Training loss: 0.245548, | Validation loss: 0.286081\n",
      "Epoch 8: | Training loss: 0.207391, | Validation loss: 0.264129\n",
      "Epoch 9: | Training loss: 0.174104, | Validation loss: 0.254484\n",
      "Convergence at epoch 9 for tolerance = 0.010000 has been reached\n"
     ]
    },
    {
     "data": {
      "image/png": "[encoded data removed]",
      "text/plain": [
       "<Figure size 432x288 with 1 Axes>"
      ]
     },
     "metadata": {
      "needs_background": "light"
     },
     "output_type": "display_data"
    },
    {
     "name": "stdout",
     "output_type": "stream",
     "text": [
      "\n",
      "Training loss: [0.2919563531263144, 0.2455478536391527, 0.20739088422326876, 0.17410350847557904]\n",
      "Validation loss: [0.32317362352674045, 0.2860806059461262, 0.26412877780931754, 0.2544842904315528]\n"
     ]
    }
   ],
   "source": [
    "# parameters to vary - embedding_dim, learning rate, tolerance\n",
    "embedding_size = [30, 50, 100, 300, 500]\n",
    "lr = 0.01\n",
    "\n",
    "emb_size_dict = {}\n",
    "for emb_size in embedding_size:\n",
    "    print(\"\\nEmbedding size is:\",emb_size)\n",
    "    emb_size_dict[emb_size]={}\n",
    "    W = network_weights(vocab_size=len(vocab), embedding_dim=emb_size, hidden_dim=[], num_classes=3)\n",
    "    W, loss_tr, dev_loss = SGD(X_tr, Y_tr, W, X_dev=X_dev, Y_dev=Y_dev, lr=lr, dropout=0.2, freeze_emb=False, tolerance=0.01, epochs=100, print_progress=True)\n",
    "    plot_model_loss(loss_tr, dev_loss, text_to_print= \"for Embedding size = \" + str(emb_size), print_last_values=True)\n",
    "    \n",
    "    preds_dev = [np.argmax(forward_pass(x, W, dropout_rate=0.0)['y'][0])+1 for x in X_dev]\n",
    "    emb_size_dict[emb_size]['accuracy'] = accuracy_score(Y_dev, preds_dev)\n",
    "    emb_size_dict[emb_size]['precision'] = precision_score(Y_dev, preds_dev, average='macro')\n",
    "    emb_size_dict[emb_size]['recall'] = recall_score(Y_dev, preds_dev, average='macro')\n",
    "    emb_size_dict[emb_size]['f1'] = f1_score(Y_dev, preds_dev, average='macro')\n",
    "    \n",
    "    del W  \n",
    "    gc.collect()"
   ]
  },
  {
   "cell_type": "code",
   "execution_count": 38,
   "metadata": {},
   "outputs": [
    {
     "name": "stdout",
     "output_type": "stream",
     "text": [
      "Learning rate was: 0.01\n"
     ]
    },
    {
     "data": {
      "text/html": [
       "<div>\n",
       "<style scoped>\n",
       "    .dataframe tbody tr th:only-of-type {\n",
       "        vertical-align: middle;\n",
       "    }\n",
       "\n",
       "    .dataframe tbody tr th {\n",
       "        vertical-align: top;\n",
       "    }\n",
       "\n",
       "    .dataframe thead th {\n",
       "        text-align: right;\n",
       "    }\n",
       "</style>\n",
       "<table border=\"1\" class=\"dataframe\">\n",
       "  <thead>\n",
       "    <tr style=\"text-align: right;\">\n",
       "      <th></th>\n",
       "      <th>embedding size</th>\n",
       "      <th>accuracy</th>\n",
       "      <th>precision</th>\n",
       "      <th>recall</th>\n",
       "      <th>f1</th>\n",
       "    </tr>\n",
       "  </thead>\n",
       "  <tbody>\n",
       "    <tr>\n",
       "      <th>0</th>\n",
       "      <td>30</td>\n",
       "      <td>0.933333</td>\n",
       "      <td>0.934838</td>\n",
       "      <td>0.933333</td>\n",
       "      <td>0.933636</td>\n",
       "    </tr>\n",
       "    <tr>\n",
       "      <th>1</th>\n",
       "      <td>50</td>\n",
       "      <td>0.926667</td>\n",
       "      <td>0.928651</td>\n",
       "      <td>0.926667</td>\n",
       "      <td>0.926879</td>\n",
       "    </tr>\n",
       "    <tr>\n",
       "      <th>2</th>\n",
       "      <td>100</td>\n",
       "      <td>0.920000</td>\n",
       "      <td>0.923117</td>\n",
       "      <td>0.920000</td>\n",
       "      <td>0.920787</td>\n",
       "    </tr>\n",
       "    <tr>\n",
       "      <th>3</th>\n",
       "      <td>300</td>\n",
       "      <td>0.906667</td>\n",
       "      <td>0.912396</td>\n",
       "      <td>0.906667</td>\n",
       "      <td>0.907931</td>\n",
       "    </tr>\n",
       "    <tr>\n",
       "      <th>4</th>\n",
       "      <td>500</td>\n",
       "      <td>0.906667</td>\n",
       "      <td>0.912396</td>\n",
       "      <td>0.906667</td>\n",
       "      <td>0.907931</td>\n",
       "    </tr>\n",
       "  </tbody>\n",
       "</table>\n",
       "</div>"
      ],
      "text/plain": [
       "   embedding size  accuracy  precision    recall        f1\n",
       "0              30  0.933333   0.934838  0.933333  0.933636\n",
       "1              50  0.926667   0.928651  0.926667  0.926879\n",
       "2             100  0.920000   0.923117  0.920000  0.920787\n",
       "3             300  0.906667   0.912396  0.906667  0.907931\n",
       "4             500  0.906667   0.912396  0.906667  0.907931"
      ]
     },
     "execution_count": 38,
     "metadata": {},
     "output_type": "execute_result"
    }
   ],
   "source": [
    "print(\"Learning rate was:\", lr)\n",
    "embeddings_validation_scores = pd.DataFrame(emb_size_dict).T.reset_index()\n",
    "embeddings_validation_scores.rename(columns= {\"index\": \"embedding size\"}, inplace=True)\n",
    "embeddings_validation_scores"
   ]
  },
  {
   "cell_type": "raw",
   "metadata": {},
   "source": [
    "Model's parameter choice: after embedding size after 100 validation loss start to rise which point to overfitting\n",
    "So the best validation scoresare reached when embedding size = 50"
   ]
  },
  {
   "cell_type": "code",
   "execution_count": 39,
   "metadata": {},
   "outputs": [
    {
     "name": "stdout",
     "output_type": "stream",
     "text": [
      "\n",
      "Learning rate is: 0.001\n",
      "Epoch 0: | Training loss: 1.098414, | Validation loss: 1.098485\n",
      "Epoch 1: | Training loss: 1.098232, | Validation loss: 1.098402\n",
      "Epoch 2: | Training loss: 1.098019, | Validation loss: 1.098298\n",
      "Convergence at epoch 2 for tolerance = 0.010000 has been reached\n"
     ]
    },
    {
     "data": {
      "image/png": "[encoded data removed]",
      "text/plain": [
       "<Figure size 432x288 with 1 Axes>"
      ]
     },
     "metadata": {
      "needs_background": "light"
     },
     "output_type": "display_data"
    },
    {
     "name": "stdout",
     "output_type": "stream",
     "text": [
      "\n",
      "Training loss: [1.0984140713954837, 1.0982315363616366, 1.09801929313451]\n",
      "Validation loss: [1.0984851458767826, 1.098401573745347, 1.0982975361250964]\n",
      "\n",
      "Learning rate is: 0.005\n",
      "Epoch 0: | Training loss: 1.097546, | Validation loss: 1.098058\n",
      "Epoch 1: | Training loss: 1.095583, | Validation loss: 1.096943\n",
      "Epoch 2: | Training loss: 1.092011, | Validation loss: 1.094658\n",
      "Convergence at epoch 2 for tolerance = 0.010000 has been reached\n"
     ]
    },
    {
     "data": {
      "image/png": "[encoded data removed]",
      "text/plain": [
       "<Figure size 432x288 with 1 Axes>"
      ]
     },
     "metadata": {
      "needs_background": "light"
     },
     "output_type": "display_data"
    },
    {
     "name": "stdout",
     "output_type": "stream",
     "text": [
      "\n",
      "Training loss: [1.0975460101727865, 1.0955829448770589, 1.0920110816593824]\n",
      "Validation loss: [1.0980579411353726, 1.096942780553813, 1.0946575841675141]\n",
      "\n",
      "Learning rate is: 0.01\n",
      "Epoch 0: | Training loss: 1.095589, | Validation loss: 1.096930\n",
      "Epoch 1: | Training loss: 1.086247, | Validation loss: 1.091053\n",
      "Epoch 2: | Training loss: 1.059520, | Validation loss: 1.073589\n",
      "Epoch 3: | Training loss: 0.988496, | Validation loss: 1.025849\n",
      "Epoch 4: | Training loss: 0.847249, | Validation loss: 0.921682\n",
      "Epoch 5: | Training loss: 0.684878, | Validation loss: 0.769112\n",
      "Epoch 6: | Training loss: 0.551786, | Validation loss: 0.606474\n",
      "Epoch 7: | Training loss: 0.429824, | Validation loss: 0.450720\n",
      "Epoch 8: | Training loss: 0.344023, | Validation loss: 0.347252\n",
      "Epoch 9: | Training loss: 0.288240, | Validation loss: 0.292269\n",
      "Epoch 10: | Training loss: 0.247966, | Validation loss: 0.269061\n",
      "Epoch 11: | Training loss: 0.213270, | Validation loss: 0.258977\n",
      "Epoch 12: | Training loss: 0.185642, | Validation loss: 0.250859\n",
      "Convergence at epoch 12 for tolerance = 0.010000 has been reached\n"
     ]
    },
    {
     "data": {
      "image/png": "[encoded data removed]",
      "text/plain": [
       "<Figure size 432x288 with 1 Axes>"
      ]
     },
     "metadata": {
      "needs_background": "light"
     },
     "output_type": "display_data"
    },
    {
     "name": "stdout",
     "output_type": "stream",
     "text": [
      "\n",
      "Training loss: [0.28823976577795024, 0.24796564358169065, 0.21327014680602993, 0.1856422372182971]\n",
      "Validation loss: [0.2922688114249725, 0.26906074141922676, 0.25897743935022355, 0.2508585909323088]\n",
      "\n",
      "Learning rate is: 0.05\n",
      "Epoch 0: | Training loss: 0.875067, | Validation loss: 0.944620\n",
      "Epoch 1: | Training loss: 0.320056, | Validation loss: 0.305991\n",
      "Epoch 2: | Training loss: 0.151859, | Validation loss: 0.251302\n",
      "Epoch 3: | Training loss: 0.082310, | Validation loss: 0.245655\n",
      "Convergence at epoch 3 for tolerance = 0.010000 has been reached\n"
     ]
    },
    {
     "data": {
      "image/png": "[encoded data removed]",
      "text/plain": [
       "<Figure size 432x288 with 1 Axes>"
      ]
     },
     "metadata": {
      "needs_background": "light"
     },
     "output_type": "display_data"
    },
    {
     "name": "stdout",
     "output_type": "stream",
     "text": [
      "\n",
      "Training loss: [0.8750672065964374, 0.3200561946924177, 0.15185869839267563, 0.082310053786398]\n",
      "Validation loss: [0.944619679272378, 0.3059909377119443, 0.25130246313191007, 0.24565529780473316]\n",
      "\n",
      "Learning rate is: 0.1\n",
      "Epoch 0: | Training loss: 0.338412, | Validation loss: 0.317567\n",
      "Epoch 1: | Training loss: 0.117891, | Validation loss: 0.266074\n",
      "Epoch 2: | Training loss: 0.081535, | Validation loss: 0.319916\n",
      "Epoch 3: | Training loss: 0.032681, | Validation loss: 0.341998\n",
      "Epoch 4: | Training loss: 0.028102, | Validation loss: 0.413342\n",
      "Epoch 5: | Training loss: 0.021426, | Validation loss: 0.400203\n",
      "Epoch 6: | Training loss: 0.021042, | Validation loss: 0.469822\n",
      "Epoch 7: | Training loss: 0.017321, | Validation loss: 0.503672\n",
      "Epoch 8: | Training loss: 0.016900, | Validation loss: 0.526816\n",
      "Epoch 9: | Training loss: 0.019860, | Validation loss: 0.539094\n",
      "Epoch 10: | Training loss: 0.012346, | Validation loss: 0.602860\n",
      "Epoch 11: | Training loss: 0.008806, | Validation loss: 0.636910\n",
      "Epoch 12: | Training loss: 0.010946, | Validation loss: 0.632127\n",
      "Convergence at epoch 12 for tolerance = 0.010000 has been reached\n"
     ]
    },
    {
     "data": {
      "image/png": "[encoded data removed]",
      "text/plain": [
       "<Figure size 432x288 with 1 Axes>"
      ]
     },
     "metadata": {
      "needs_background": "light"
     },
     "output_type": "display_data"
    },
    {
     "name": "stdout",
     "output_type": "stream",
     "text": [
      "\n",
      "Training loss: [0.019860427430309104, 0.012346024013292491, 0.008806265499521094, 0.01094617842214386]\n",
      "Validation loss: [0.5390943496608005, 0.6028604952130127, 0.6369098289850857, 0.6321268340159316]\n"
     ]
    }
   ],
   "source": [
    "learning_rate = [0.001,0.005, 0.01, 0.05, 0.1]\n",
    "learn_rate_dict = {}\n",
    "emb_size = 50\n",
    "\n",
    "for lr in learning_rate:\n",
    "    print(\"\\nLearning rate is:\",lr)\n",
    "    learn_rate_dict[lr]={}\n",
    "    W = network_weights(vocab_size=len(vocab), embedding_dim=emb_size, hidden_dim=[], num_classes=3)\n",
    "    W, loss_tr, dev_loss = SGD(X_tr, Y_tr, W, X_dev=X_dev, Y_dev=Y_dev, lr=lr, dropout=0.2, freeze_emb=False, tolerance=0.01, epochs=100, print_progress=True)\n",
    "    plot_model_loss(loss_tr, dev_loss, text_to_print= \"for Learning rate = \" + str(lr), print_last_values=True)\n",
    "    \n",
    "    preds_dev = [np.argmax(forward_pass(x, W, dropout_rate=0.0)['y'][0])+1 for x in X_dev]\n",
    "    learn_rate_dict[lr]['accuracy'] = accuracy_score(Y_dev, preds_dev)\n",
    "    learn_rate_dict[lr]['precision'] = precision_score(Y_dev, preds_dev, average='macro')\n",
    "    learn_rate_dict[lr]['recall'] = recall_score(Y_dev, preds_dev, average='macro')\n",
    "    learn_rate_dict[lr]['f1'] = f1_score(Y_dev, preds_dev, average='macro')\n",
    "    \n",
    "    del W  \n",
    "    gc.collect()"
   ]
  },
  {
   "cell_type": "code",
   "execution_count": 40,
   "metadata": {},
   "outputs": [
    {
     "name": "stdout",
     "output_type": "stream",
     "text": [
      "Embedding size was:  50\n"
     ]
    },
    {
     "data": {
      "text/html": [
       "<div>\n",
       "<style scoped>\n",
       "    .dataframe tbody tr th:only-of-type {\n",
       "        vertical-align: middle;\n",
       "    }\n",
       "\n",
       "    .dataframe tbody tr th {\n",
       "        vertical-align: top;\n",
       "    }\n",
       "\n",
       "    .dataframe thead th {\n",
       "        text-align: right;\n",
       "    }\n",
       "</style>\n",
       "<table border=\"1\" class=\"dataframe\">\n",
       "  <thead>\n",
       "    <tr style=\"text-align: right;\">\n",
       "      <th></th>\n",
       "      <th>learning_rate</th>\n",
       "      <th>accuracy</th>\n",
       "      <th>precision</th>\n",
       "      <th>recall</th>\n",
       "      <th>f1</th>\n",
       "    </tr>\n",
       "  </thead>\n",
       "  <tbody>\n",
       "    <tr>\n",
       "      <th>0</th>\n",
       "      <td>0.001</td>\n",
       "      <td>0.380000</td>\n",
       "      <td>0.388362</td>\n",
       "      <td>0.380000</td>\n",
       "      <td>0.376560</td>\n",
       "    </tr>\n",
       "    <tr>\n",
       "      <th>1</th>\n",
       "      <td>0.005</td>\n",
       "      <td>0.673333</td>\n",
       "      <td>0.671573</td>\n",
       "      <td>0.673333</td>\n",
       "      <td>0.664086</td>\n",
       "    </tr>\n",
       "    <tr>\n",
       "      <th>2</th>\n",
       "      <td>0.010</td>\n",
       "      <td>0.926667</td>\n",
       "      <td>0.928651</td>\n",
       "      <td>0.926667</td>\n",
       "      <td>0.926879</td>\n",
       "    </tr>\n",
       "    <tr>\n",
       "      <th>3</th>\n",
       "      <td>0.050</td>\n",
       "      <td>0.920000</td>\n",
       "      <td>0.922091</td>\n",
       "      <td>0.920000</td>\n",
       "      <td>0.920209</td>\n",
       "    </tr>\n",
       "    <tr>\n",
       "      <th>4</th>\n",
       "      <td>0.100</td>\n",
       "      <td>0.866667</td>\n",
       "      <td>0.872007</td>\n",
       "      <td>0.866667</td>\n",
       "      <td>0.868135</td>\n",
       "    </tr>\n",
       "  </tbody>\n",
       "</table>\n",
       "</div>"
      ],
      "text/plain": [
       "   learning_rate  accuracy  precision    recall        f1\n",
       "0          0.001  0.380000   0.388362  0.380000  0.376560\n",
       "1          0.005  0.673333   0.671573  0.673333  0.664086\n",
       "2          0.010  0.926667   0.928651  0.926667  0.926879\n",
       "3          0.050  0.920000   0.922091  0.920000  0.920209\n",
       "4          0.100  0.866667   0.872007  0.866667  0.868135"
      ]
     },
     "execution_count": 40,
     "metadata": {},
     "output_type": "execute_result"
    }
   ],
   "source": [
    "print(\"Embedding size was: \", emb_size)\n",
    "learning_rates_validation_scores = pd.DataFrame(learn_rate_dict).T.reset_index()\n",
    "learning_rates_validation_scores.rename(columns= {\"index\": \"learning_rate\"}, inplace=True)\n",
    "learning_rates_validation_scores"
   ]
  },
  {
   "cell_type": "markdown",
   "metadata": {},
   "source": [
    "As it can be seen from the graphs, the only reasonable variant is learning_rate=0.01, \n",
    "as lower learning rates shows underfitting, and hiher values lead to overfitting."
   ]
  },
  {
   "cell_type": "markdown",
   "metadata": {},
   "source": [
    "# Use Pre-trained Embeddings"
   ]
  },
  {
   "cell_type": "code",
   "execution_count": 41,
   "metadata": {
    "ExecuteTime": {
     "end_time": "2020-04-02T14:27:32.020697Z",
     "start_time": "2020-04-02T14:27:32.015733Z"
    }
   },
   "outputs": [],
   "source": [
    "def get_glove_embeddings(f_zip, f_txt, word2id, emb_size=300):\n",
    "    \n",
    "    w_emb = np.zeros((len(word2id), emb_size))\n",
    "    \n",
    "    with zipfile.ZipFile(f_zip) as z:\n",
    "        with z.open(f_txt) as f:\n",
    "            for line in f:\n",
    "                line = line.decode('utf-8')\n",
    "                word = line.split()[0]\n",
    "                     \n",
    "                if word in vocab:\n",
    "                    emb = np.array(line.strip('\\n').split()[1:]).astype(np.float32)\n",
    "                    w_emb[word2id[word]] +=emb\n",
    "    return w_emb"
   ]
  },
  {
   "cell_type": "code",
   "execution_count": 42,
   "metadata": {},
   "outputs": [],
   "source": [
    "import time"
   ]
  },
  {
   "cell_type": "code",
   "execution_count": 43,
   "metadata": {
    "ExecuteTime": {
     "end_time": "2020-04-02T14:28:54.548613Z",
     "start_time": "2020-04-02T14:27:32.780248Z"
    }
   },
   "outputs": [
    {
     "name": "stdout",
     "output_type": "stream",
     "text": [
      "CPU times: user 2min 30s, sys: 3.59 s, total: 2min 33s\n",
      "Wall time: 2min 41s\n"
     ]
    }
   ],
   "source": [
    "%%time\n",
    "# That is the slowest stage in the whole code\n",
    "word2id = dict_word_id\n",
    "w_glove = get_glove_embeddings(\"glove.840B.300d.zip\",\"glove.840B.300d.txt\", word2id)"
   ]
  },
  {
   "cell_type": "code",
   "execution_count": 44,
   "metadata": {},
   "outputs": [
    {
     "data": {
      "text/plain": [
       "(8931, 300)"
      ]
     },
     "execution_count": 44,
     "metadata": {},
     "output_type": "execute_result"
    }
   ],
   "source": [
    "w_glove.shape"
   ]
  },
  {
   "cell_type": "markdown",
   "metadata": {},
   "source": [
    "First, initialise the weights of your network using the `network_weights` function. Second, replace the weigths of the embedding matrix with `w_glove`. Finally, train the network by freezing the embedding weights: "
   ]
  },
  {
   "cell_type": "code",
   "execution_count": 45,
   "metadata": {
    "ExecuteTime": {
     "end_time": "2020-04-02T14:30:11.121198Z",
     "start_time": "2020-04-02T14:29:24.946124Z"
    }
   },
   "outputs": [
    {
     "data": {
      "text/plain": [
       "(8931, 300)"
      ]
     },
     "execution_count": 45,
     "metadata": {},
     "output_type": "execute_result"
    }
   ],
   "source": [
    "# initialise the weights,  replace the embedding matrix with w_glove.\n",
    "# train the network by freezing the embedding weights\n",
    "W = network_weights(vocab_size=len(vocab), embedding_dim=w_glove.shape[1], hidden_dim=[], num_classes=3)\n",
    "W[0].shape "
   ]
  },
  {
   "cell_type": "code",
   "execution_count": 46,
   "metadata": {
    "ExecuteTime": {
     "end_time": "2020-04-02T14:30:11.121198Z",
     "start_time": "2020-04-02T14:29:24.946124Z"
    }
   },
   "outputs": [],
   "source": [
    "W[0] = w_glove"
   ]
  },
  {
   "cell_type": "code",
   "execution_count": 47,
   "metadata": {},
   "outputs": [
    {
     "name": "stdout",
     "output_type": "stream",
     "text": [
      "Epoch 0: | Training loss: 1.051091, | Validation loss: 1.052847\n",
      "Epoch 1: | Training loss: 0.946273, | Validation loss: 0.941078\n",
      "Epoch 2: | Training loss: 0.560805, | Validation loss: 0.573918\n",
      "Epoch 3: | Training loss: 0.383952, | Validation loss: 0.360303\n",
      "Epoch 4: | Training loss: 0.311401, | Validation loss: 0.250150\n",
      "Epoch 5: | Training loss: 0.267936, | Validation loss: 0.204408\n",
      "Epoch 6: | Training loss: 0.242371, | Validation loss: 0.171712\n",
      "Epoch 7: | Training loss: 0.206567, | Validation loss: 0.166937\n",
      "Epoch 8: | Training loss: 0.188801, | Validation loss: 0.150169\n",
      "Epoch 9: | Training loss: 0.159503, | Validation loss: 0.144048\n",
      "Epoch 10: | Training loss: 0.139433, | Validation loss: 0.143646\n",
      "Convergence at epoch 10 for tolerance = 0.001000 has been reached\n"
     ]
    }
   ],
   "source": [
    "W, loss_tr, dev_loss = SGD(X_tr, Y_tr, W, X_dev=X_dev, Y_dev=Y_dev, lr=0.01, dropout=0.2, freeze_emb=True, \n",
    "                           tolerance=0.001, epochs=100, print_progress=True)"
   ]
  },
  {
   "cell_type": "code",
   "execution_count": 48,
   "metadata": {},
   "outputs": [
    {
     "data": {
      "image/png": "[encoded data removed]",
      "text/plain": [
       "<Figure size 432x288 with 1 Axes>"
      ]
     },
     "metadata": {
      "needs_background": "light"
     },
     "output_type": "display_data"
    },
    {
     "name": "stdout",
     "output_type": "stream",
     "text": [
      "\n",
      "Training loss: [0.20656685528981764, 0.18880087666461595, 0.15950344845903516, 0.13943268376117235]\n",
      "Validation loss: [0.16693744535923324, 0.15016891725362036, 0.14404829815130157, 0.14364625814155277]\n"
     ]
    }
   ],
   "source": [
    "plot_model_loss(loss_tr, dev_loss, text_to_print = \"with Average Embedding (Pre-trained)\", print_last_values=True)"
   ]
  },
  {
   "cell_type": "code",
   "execution_count": 49,
   "metadata": {
    "ExecuteTime": {
     "end_time": "2020-04-02T15:12:00.815184Z",
     "start_time": "2020-04-02T15:12:00.812563Z"
    }
   },
   "outputs": [
    {
     "name": "stdout",
     "output_type": "stream",
     "text": [
      "Accuracy: 0.8944444444444445\n",
      "Precision: 0.8943436515170006\n",
      "Recall: 0.8944444444444444\n",
      "F1-Score: 0.894158300265336\n"
     ]
    }
   ],
   "source": [
    "preds_te = [np.argmax(forward_pass(x, W, dropout_rate=0.0)['y'][0])+1 for x in X_te]\n",
    "print('Accuracy:', accuracy_score(Y_te,preds_te))\n",
    "print('Precision:', precision_score(Y_te,preds_te,average='macro'))\n",
    "print('Recall:', recall_score(Y_te,preds_te,average='macro'))\n",
    "print('F1-Score:', f1_score(Y_te,preds_te,average='macro'))"
   ]
  },
  {
   "cell_type": "markdown",
   "metadata": {},
   "source": [
    "**Observation:** network with gloves leads to better results"
   ]
  },
  {
   "cell_type": "markdown",
   "metadata": {},
   "source": [
    "## Choosing model hyperparameters"
   ]
  },
  {
   "cell_type": "code",
   "execution_count": 50,
   "metadata": {},
   "outputs": [
    {
     "name": "stdout",
     "output_type": "stream",
     "text": [
      "\n",
      "Learning rate is: 0.001\n",
      "Epoch 0: | Training loss: 0.873112, | Validation loss: 0.924134\n",
      "Epoch 1: | Training loss: 0.677974, | Validation loss: 0.746107\n",
      "Epoch 2: | Training loss: 0.543808, | Validation loss: 0.619080\n",
      "Epoch 3: | Training loss: 0.451602, | Validation loss: 0.527331\n",
      "Epoch 4: | Training loss: 0.385058, | Validation loss: 0.458088\n",
      "Epoch 5: | Training loss: 0.336792, | Validation loss: 0.407238\n",
      "Epoch 6: | Training loss: 0.304118, | Validation loss: 0.366465\n",
      "Epoch 7: | Training loss: 0.274010, | Validation loss: 0.334823\n",
      "Epoch 8: | Training loss: 0.255963, | Validation loss: 0.308928\n",
      "Epoch 9: | Training loss: 0.238755, | Validation loss: 0.287850\n",
      "Epoch 10: | Training loss: 0.224407, | Validation loss: 0.270322\n",
      "Epoch 11: | Training loss: 0.213364, | Validation loss: 0.257134\n",
      "Epoch 12: | Training loss: 0.204286, | Validation loss: 0.244458\n",
      "Epoch 13: | Training loss: 0.197684, | Validation loss: 0.235107\n",
      "Convergence at epoch 13 for tolerance = 0.010000 has been reached\n"
     ]
    },
    {
     "data": {
      "image/png": "[encoded data removed]",
      "text/plain": [
       "<Figure size 432x288 with 1 Axes>"
      ]
     },
     "metadata": {
      "needs_background": "light"
     },
     "output_type": "display_data"
    },
    {
     "name": "stdout",
     "output_type": "stream",
     "text": [
      "\n",
      "Training loss: [0.2244068494925936, 0.2133641522162587, 0.20428632701395508, 0.19768393509067142]\n",
      "Validation loss: [0.27032206820150245, 0.25713405916379656, 0.24445807739693567, 0.23510709972747426]\n",
      "\n",
      "Learning rate is: 0.01\n",
      "Epoch 0: | Training loss: 0.221658, | Validation loss: 0.264494\n",
      "Epoch 1: | Training loss: 0.177063, | Validation loss: 0.196183\n",
      "Epoch 2: | Training loss: 0.153220, | Validation loss: 0.175760\n",
      "Epoch 3: | Training loss: 0.135980, | Validation loss: 0.169106\n",
      "Convergence at epoch 3 for tolerance = 0.010000 has been reached\n"
     ]
    },
    {
     "data": {
      "image/png": "[encoded data removed]",
      "text/plain": [
       "<Figure size 432x288 with 1 Axes>"
      ]
     },
     "metadata": {
      "needs_background": "light"
     },
     "output_type": "display_data"
    },
    {
     "name": "stdout",
     "output_type": "stream",
     "text": [
      "\n",
      "Training loss: [0.22165764553566916, 0.17706280518517048, 0.15321960954565805, 0.13598003286274796]\n",
      "Validation loss: [0.26449408056355156, 0.19618262831174, 0.17575983917667007, 0.1691059806223566]\n",
      "\n",
      "Learning rate is: 0.1\n",
      "Epoch 0: | Training loss: 0.068361, | Validation loss: 0.185456\n",
      "Epoch 1: | Training loss: 0.037464, | Validation loss: 0.273685\n",
      "Epoch 2: | Training loss: 0.017309, | Validation loss: 0.264759\n",
      "Convergence at epoch 2 for tolerance = 0.010000 has been reached\n"
     ]
    },
    {
     "data": {
      "image/png": "[encoded data removed]",
      "text/plain": [
       "<Figure size 432x288 with 1 Axes>"
      ]
     },
     "metadata": {
      "needs_background": "light"
     },
     "output_type": "display_data"
    },
    {
     "name": "stdout",
     "output_type": "stream",
     "text": [
      "\n",
      "Training loss: [0.06836124108916317, 0.03746433805990011, 0.017308729760945715]\n",
      "Validation loss: [0.18545610778828703, 0.2736848879356728, 0.26475897331984255]\n"
     ]
    }
   ],
   "source": [
    "learning_rate = [0.001, 0.01, 0.1]\n",
    "learn_rate_dict_glove = {}\n",
    "emb_size = 50\n",
    "\n",
    "for lr in learning_rate:\n",
    "    print(\"\\nLearning rate is:\",lr)\n",
    "    learn_rate_dict_glove[lr]={}\n",
    "    W = network_weights(vocab_size=len(vocab), embedding_dim=w_glove.shape[1], hidden_dim=[], num_classes=3)\n",
    "    W[0] = w_glove\n",
    "    W, loss_tr, dev_loss = SGD(X_tr, Y_tr, W, X_dev=X_dev, Y_dev=Y_dev, lr=lr, dropout=0.2, freeze_emb=True, tolerance=0.01, epochs=100, print_progress=True)\n",
    "    plot_model_loss(loss_tr, dev_loss, text_to_print= \"for Learning rate = \" + str(lr), print_last_values=True)\n",
    "    \n",
    "    preds_dev = [np.argmax(forward_pass(x, W, dropout_rate=0.0)['y'][0])+1 for x in X_dev]\n",
    "    learn_rate_dict_glove[lr]['accuracy'] = accuracy_score(Y_dev, preds_dev)\n",
    "    learn_rate_dict_glove[lr]['precision'] = precision_score(Y_dev, preds_dev, average='macro')\n",
    "    learn_rate_dict_glove[lr]['recall'] = recall_score(Y_dev, preds_dev, average='macro')\n",
    "    learn_rate_dict_glove[lr]['f1'] = f1_score(Y_dev, preds_dev, average='macro')\n",
    "    \n",
    "    del W  \n",
    "    gc.collect()"
   ]
  },
  {
   "cell_type": "code",
   "execution_count": 51,
   "metadata": {},
   "outputs": [
    {
     "data": {
      "text/html": [
       "<div>\n",
       "<style scoped>\n",
       "    .dataframe tbody tr th:only-of-type {\n",
       "        vertical-align: middle;\n",
       "    }\n",
       "\n",
       "    .dataframe tbody tr th {\n",
       "        vertical-align: top;\n",
       "    }\n",
       "\n",
       "    .dataframe thead th {\n",
       "        text-align: right;\n",
       "    }\n",
       "</style>\n",
       "<table border=\"1\" class=\"dataframe\">\n",
       "  <thead>\n",
       "    <tr style=\"text-align: right;\">\n",
       "      <th></th>\n",
       "      <th>learning_rate</th>\n",
       "      <th>accuracy</th>\n",
       "      <th>precision</th>\n",
       "      <th>recall</th>\n",
       "      <th>f1</th>\n",
       "    </tr>\n",
       "  </thead>\n",
       "  <tbody>\n",
       "    <tr>\n",
       "      <th>0</th>\n",
       "      <td>0.001</td>\n",
       "      <td>0.953333</td>\n",
       "      <td>0.955192</td>\n",
       "      <td>0.953333</td>\n",
       "      <td>0.952907</td>\n",
       "    </tr>\n",
       "    <tr>\n",
       "      <th>1</th>\n",
       "      <td>0.010</td>\n",
       "      <td>0.953333</td>\n",
       "      <td>0.953992</td>\n",
       "      <td>0.953333</td>\n",
       "      <td>0.953097</td>\n",
       "    </tr>\n",
       "    <tr>\n",
       "      <th>2</th>\n",
       "      <td>0.100</td>\n",
       "      <td>0.920000</td>\n",
       "      <td>0.921306</td>\n",
       "      <td>0.920000</td>\n",
       "      <td>0.920231</td>\n",
       "    </tr>\n",
       "  </tbody>\n",
       "</table>\n",
       "</div>"
      ],
      "text/plain": [
       "   learning_rate  accuracy  precision    recall        f1\n",
       "0          0.001  0.953333   0.955192  0.953333  0.952907\n",
       "1          0.010  0.953333   0.953992  0.953333  0.953097\n",
       "2          0.100  0.920000   0.921306  0.920000  0.920231"
      ]
     },
     "execution_count": 51,
     "metadata": {},
     "output_type": "execute_result"
    }
   ],
   "source": [
    "glove_lr_validation_scores = pd.DataFrame(learn_rate_dict_glove).T.reset_index()\n",
    "glove_lr_validation_scores.rename(columns= {\"index\": \"learning_rate\"}, inplace=True)\n",
    "glove_lr_validation_scores"
   ]
  },
  {
   "cell_type": "markdown",
   "metadata": {},
   "source": [
    "**Conclusion:** Though the table with results presents almost similar score, \n",
    "training and validation curves shows only one acceptable variant for this network which is lr=0.001"
   ]
  },
  {
   "cell_type": "markdown",
   "metadata": {},
   "source": [
    "# Extend to support deeper architectures (Bonus)\n",
    "\n",
    "Extend the network to support back-propagation for more hidden layers. You need to modify the `backward_pass` function above to compute gradients and update the weights between intermediate hidden layers. Finally, train and evaluate a network with a deeper architecture. "
   ]
  },
  {
   "cell_type": "code",
   "execution_count": 52,
   "metadata": {
    "ExecuteTime": {
     "end_time": "2020-04-02T14:58:51.764619Z",
     "start_time": "2020-04-02T14:58:47.483690Z"
    }
   },
   "outputs": [
    {
     "name": "stdout",
     "output_type": "stream",
     "text": [
      "Epoch 0: | Training loss: 1.017612, | Validation loss: 1.029205\n",
      "Epoch 1: | Training loss: 0.918199, | Validation loss: 0.948852\n",
      "Epoch 2: | Training loss: 0.787121, | Validation loss: 0.843330\n",
      "Epoch 3: | Training loss: 0.645670, | Validation loss: 0.717640\n",
      "Epoch 4: | Training loss: 0.526156, | Validation loss: 0.588638\n",
      "Epoch 5: | Training loss: 0.439527, | Validation loss: 0.472154\n",
      "Epoch 6: | Training loss: 0.370551, | Validation loss: 0.384074\n",
      "Epoch 7: | Training loss: 0.319461, | Validation loss: 0.302999\n",
      "Epoch 8: | Training loss: 0.306519, | Validation loss: 0.263607\n",
      "Epoch 9: | Training loss: 0.293506, | Validation loss: 0.255894\n",
      "Epoch 10: | Training loss: 0.288066, | Validation loss: 0.273254\n",
      "Epoch 11: | Training loss: 0.292779, | Validation loss: 0.279839\n",
      "Epoch 12: | Training loss: 0.292955, | Validation loss: 0.294357\n",
      "Epoch 13: | Training loss: 0.299162, | Validation loss: 0.308015\n",
      "Epoch 14: | Training loss: 0.310282, | Validation loss: 0.309372\n",
      "Epoch 15: | Training loss: 0.302595, | Validation loss: 0.341309\n",
      "Epoch 16: | Training loss: 0.309203, | Validation loss: 0.336268\n",
      "Epoch 17: | Training loss: 0.298674, | Validation loss: 0.363855\n",
      "Epoch 18: | Training loss: 0.294099, | Validation loss: 0.372038\n",
      "Epoch 19: | Training loss: 0.292200, | Validation loss: 0.378587\n",
      "Epoch 20: | Training loss: 0.288188, | Validation loss: 0.385392\n",
      "Epoch 21: | Training loss: 0.282069, | Validation loss: 0.390300\n",
      "Epoch 22: | Training loss: 0.273396, | Validation loss: 0.398457\n",
      "Epoch 23: | Training loss: 0.268090, | Validation loss: 0.419952\n",
      "Epoch 24: | Training loss: 0.282992, | Validation loss: 0.394613\n",
      "Epoch 25: | Training loss: 0.276907, | Validation loss: 0.421319\n",
      "Epoch 26: | Training loss: 0.278603, | Validation loss: 0.420059\n",
      "Epoch 27: | Training loss: 0.260873, | Validation loss: 0.477713\n",
      "Epoch 28: | Training loss: 0.291055, | Validation loss: 0.413079\n",
      "Epoch 29: | Training loss: 0.251740, | Validation loss: 0.497548\n",
      "Epoch 30: | Training loss: 0.257054, | Validation loss: 0.465963\n",
      "Epoch 31: | Training loss: 0.265477, | Validation loss: 0.460738\n",
      "Epoch 32: | Training loss: 0.244284, | Validation loss: 0.484932\n",
      "Epoch 33: | Training loss: 0.263967, | Validation loss: 0.472155\n",
      "Epoch 34: | Training loss: 0.234428, | Validation loss: 0.531534\n",
      "Epoch 35: | Training loss: 0.220291, | Validation loss: 0.558819\n",
      "Epoch 36: | Training loss: 0.233651, | Validation loss: 0.510088\n",
      "Epoch 37: | Training loss: 0.215632, | Validation loss: 0.553285\n",
      "Epoch 38: | Training loss: 0.224296, | Validation loss: 0.516923\n",
      "Epoch 39: | Training loss: 0.213720, | Validation loss: 0.554408\n",
      "Epoch 40: | Training loss: 0.217891, | Validation loss: 0.551435\n",
      "Epoch 41: | Training loss: 0.212013, | Validation loss: 0.567775\n",
      "Epoch 42: | Training loss: 0.202498, | Validation loss: 0.571971\n",
      "Epoch 43: | Training loss: 0.204369, | Validation loss: 0.567226\n",
      "Epoch 44: | Training loss: 0.204218, | Validation loss: 0.571587\n",
      "Epoch 45: | Training loss: 0.206740, | Validation loss: 0.581740\n",
      "Epoch 46: | Training loss: 0.220023, | Validation loss: 0.562888\n",
      "Epoch 47: | Training loss: 0.217096, | Validation loss: 0.578448\n",
      "Epoch 48: | Training loss: 0.202968, | Validation loss: 0.596767\n",
      "Epoch 49: | Training loss: 0.191521, | Validation loss: 0.619478\n",
      "Epoch 50: | Training loss: 0.204356, | Validation loss: 0.590341\n",
      "Epoch 51: | Training loss: 0.188745, | Validation loss: 0.607309\n",
      "Epoch 52: | Training loss: 0.177347, | Validation loss: 0.656257\n",
      "Epoch 53: | Training loss: 0.175697, | Validation loss: 0.635590\n",
      "Epoch 54: | Training loss: 0.188238, | Validation loss: 0.618505\n",
      "Epoch 55: | Training loss: 0.174309, | Validation loss: 0.669366\n",
      "Epoch 56: | Training loss: 0.181165, | Validation loss: 0.638189\n",
      "Epoch 57: | Training loss: 0.181508, | Validation loss: 0.640354\n",
      "Epoch 58: | Training loss: 0.156875, | Validation loss: 0.718059\n",
      "Epoch 59: | Training loss: 0.177444, | Validation loss: 0.663278\n",
      "Epoch 60: | Training loss: 0.173687, | Validation loss: 0.649539\n",
      "Epoch 61: | Training loss: 0.152486, | Validation loss: 0.692237\n",
      "Epoch 62: | Training loss: 0.160671, | Validation loss: 0.666267\n",
      "Epoch 63: | Training loss: 0.167177, | Validation loss: 0.671382\n",
      "Epoch 64: | Training loss: 0.147168, | Validation loss: 0.716944\n",
      "Epoch 65: | Training loss: 0.175634, | Validation loss: 0.681540\n",
      "Epoch 66: | Training loss: 0.153906, | Validation loss: 0.750256\n",
      "Epoch 67: | Training loss: 0.140787, | Validation loss: 0.727114\n",
      "Epoch 68: | Training loss: 0.137142, | Validation loss: 0.749502\n",
      "Epoch 69: | Training loss: 0.149741, | Validation loss: 0.714119\n",
      "Epoch 70: | Training loss: 0.131136, | Validation loss: 0.773713\n",
      "Epoch 71: | Training loss: 0.139997, | Validation loss: 0.735051\n",
      "Epoch 72: | Training loss: 0.133144, | Validation loss: 0.761857\n",
      "Epoch 73: | Training loss: 0.139021, | Validation loss: 0.731457\n",
      "Epoch 74: | Training loss: 0.150968, | Validation loss: 0.716388\n",
      "Epoch 75: | Training loss: 0.154594, | Validation loss: 0.747031\n",
      "Epoch 76: | Training loss: 0.141570, | Validation loss: 0.765867\n",
      "Epoch 77: | Training loss: 0.132784, | Validation loss: 0.762388\n",
      "Epoch 78: | Training loss: 0.143596, | Validation loss: 0.785334\n",
      "Epoch 79: | Training loss: 0.130910, | Validation loss: 0.784027\n",
      "Epoch 80: | Training loss: 0.132257, | Validation loss: 0.791922\n",
      "Epoch 81: | Training loss: 0.126788, | Validation loss: 0.811997\n",
      "Epoch 82: | Training loss: 0.126904, | Validation loss: 0.830446\n",
      "Epoch 83: | Training loss: 0.125486, | Validation loss: 0.832654\n",
      "Epoch 84: | Training loss: 0.116744, | Validation loss: 0.901935\n",
      "Epoch 85: | Training loss: 0.125750, | Validation loss: 0.865790\n",
      "Epoch 86: | Training loss: 0.135340, | Validation loss: 0.824458\n",
      "Epoch 87: | Training loss: 0.136102, | Validation loss: 0.785338\n",
      "Epoch 88: | Training loss: 0.114621, | Validation loss: 0.867086\n",
      "Epoch 89: | Training loss: 0.120728, | Validation loss: 0.818523\n",
      "Epoch 90: | Training loss: 0.114577, | Validation loss: 0.869941\n",
      "Epoch 91: | Training loss: 0.112348, | Validation loss: 0.860956\n",
      "Epoch 92: | Training loss: 0.116749, | Validation loss: 0.862101\n",
      "Epoch 93: | Training loss: 0.118386, | Validation loss: 0.850546\n",
      "Epoch 94: | Training loss: 0.124435, | Validation loss: 0.824911\n",
      "Epoch 95: | Training loss: 0.104818, | Validation loss: 0.881327\n",
      "Epoch 96: | Training loss: 0.099109, | Validation loss: 0.962338\n",
      "Epoch 97: | Training loss: 0.122083, | Validation loss: 0.880154\n",
      "Epoch 98: | Training loss: 0.109395, | Validation loss: 0.887933\n",
      "Epoch 99: | Training loss: 0.117430, | Validation loss: 0.866779\n"
     ]
    }
   ],
   "source": [
    "W = network_weights(vocab_size=len(vocab), embedding_dim=w_glove.shape[1], hidden_dim=[10], num_classes=3)\n",
    "W[0] = w_glove\n",
    "\n",
    "W, loss_tr, dev_loss = SGD(X_tr, Y_tr, W, X_dev = X_dev, Y_dev = Y_dev, lr = 0.01, dropout = 0.3, freeze_emb = True, \n",
    "                           tolerance = 0.001, epochs = 100, print_progress = True)"
   ]
  },
  {
   "cell_type": "code",
   "execution_count": 53,
   "metadata": {},
   "outputs": [
    {
     "data": {
      "image/png": "[encoded data removed]",
      "text/plain": [
       "<Figure size 432x288 with 1 Axes>"
      ]
     },
     "metadata": {
      "needs_background": "light"
     },
     "output_type": "display_data"
    },
    {
     "name": "stdout",
     "output_type": "stream",
     "text": [
      "\n",
      "Training loss: [0.09910883944948035, 0.12208274436159212, 0.10939538290610355, 0.11742995767609471]\n",
      "Validation loss: [0.9623380768278675, 0.8801535240965014, 0.8879328188770566, 0.8667793850739317]\n"
     ]
    }
   ],
   "source": [
    "plot_model_loss(loss_tr, dev_loss, text_to_print = \"Average Embedding (Pre-trained) + X hidden layers\", print_last_values=True)"
   ]
  },
  {
   "cell_type": "code",
   "execution_count": 54,
   "metadata": {
    "ExecuteTime": {
     "end_time": "2020-04-02T15:11:51.994986Z",
     "start_time": "2020-04-02T15:11:51.992563Z"
    }
   },
   "outputs": [
    {
     "name": "stdout",
     "output_type": "stream",
     "text": [
      "Accuracy: 0.8466666666666667\n",
      "Precision: 0.8596151760527383\n",
      "Recall: 0.8466666666666667\n",
      "F1-Score: 0.8463941682609833\n"
     ]
    }
   ],
   "source": [
    "preds_te = [np.argmax(forward_pass(x, W, dropout_rate=0.0)['y'][0])+1 for x in X_te]\n",
    "print('Accuracy:', accuracy_score(Y_te,preds_te))\n",
    "print('Precision:', precision_score(Y_te,preds_te,average='macro'))\n",
    "print('Recall:', recall_score(Y_te,preds_te,average='macro'))\n",
    "print('F1-Score:', f1_score(Y_te,preds_te,average='macro'))"
   ]
  },
  {
   "cell_type": "code",
   "execution_count": 55,
   "metadata": {
    "ExecuteTime": {
     "end_time": "2020-04-02T15:11:51.994986Z",
     "start_time": "2020-04-02T15:11:51.992563Z"
    }
   },
   "outputs": [
    {
     "data": {
      "text/plain": [
       "2467"
      ]
     },
     "execution_count": 55,
     "metadata": {},
     "output_type": "execute_result"
    }
   ],
   "source": [
    "del W  \n",
    "gc.collect()"
   ]
  },
  {
   "cell_type": "code",
   "execution_count": 56,
   "metadata": {},
   "outputs": [
    {
     "name": "stdout",
     "output_type": "stream",
     "text": [
      "\n",
      "Dimension of 1 hidden layer: 2\n",
      "Epoch 0: | Training loss: 1.085754, | Validation loss: 1.087759\n",
      "Epoch 1: | Training loss: 1.074404, | Validation loss: 1.078682\n",
      "Epoch 2: | Training loss: 1.060436, | Validation loss: 1.066768\n",
      "Epoch 3: | Training loss: 1.044767, | Validation loss: 1.052503\n",
      "Epoch 4: | Training loss: 1.027096, | Validation loss: 1.036030\n",
      "Epoch 5: | Training loss: 1.006602, | Validation loss: 1.017487\n",
      "Epoch 6: | Training loss: 0.985208, | Validation loss: 0.999251\n",
      "Epoch 7: | Training loss: 0.964920, | Validation loss: 0.982222\n",
      "Epoch 8: | Training loss: 0.949502, | Validation loss: 0.970937\n",
      "Epoch 9: | Training loss: 0.933718, | Validation loss: 0.962094\n",
      "Epoch 10: | Training loss: 0.905931, | Validation loss: 0.939590\n",
      "Epoch 11: | Training loss: 0.909288, | Validation loss: 0.959207\n",
      "Epoch 12: | Training loss: 0.903381, | Validation loss: 0.963470\n",
      "Epoch 13: | Training loss: 0.893927, | Validation loss: 0.965771\n",
      "Epoch 14: | Training loss: 0.895050, | Validation loss: 0.978963\n",
      "Epoch 15: | Training loss: 0.902685, | Validation loss: 1.004848\n",
      "Epoch 16: | Training loss: 0.920891, | Validation loss: 1.037198\n",
      "Epoch 17: | Training loss: 0.916987, | Validation loss: 1.041069\n",
      "Epoch 18: | Training loss: 0.925527, | Validation loss: 1.060315\n",
      "Epoch 19: | Training loss: 0.931354, | Validation loss: 1.072554\n",
      "Epoch 20: | Training loss: 0.937202, | Validation loss: 1.084660\n",
      "Epoch 21: | Training loss: 0.936920, | Validation loss: 1.099110\n",
      "Epoch 22: | Training loss: 0.942713, | Validation loss: 1.120771\n",
      "Epoch 23: | Training loss: 0.928493, | Validation loss: 1.109591\n",
      "Epoch 24: | Training loss: 0.936007, | Validation loss: 1.131236\n",
      "Epoch 25: | Training loss: 0.936900, | Validation loss: 1.141500\n",
      "Epoch 26: | Training loss: 0.938496, | Validation loss: 1.148710\n",
      "Epoch 27: | Training loss: 0.928020, | Validation loss: 1.146834\n",
      "Epoch 28: | Training loss: 0.921120, | Validation loss: 1.153781\n",
      "Epoch 29: | Training loss: 0.916803, | Validation loss: 1.159007\n",
      "Epoch 30: | Training loss: 0.907186, | Validation loss: 1.150506\n",
      "Epoch 31: | Training loss: 0.905152, | Validation loss: 1.162367\n",
      "Epoch 32: | Training loss: 0.902629, | Validation loss: 1.168405\n",
      "Epoch 33: | Training loss: 0.897992, | Validation loss: 1.169278\n",
      "Convergence at epoch 33 for tolerance = 0.001000 has been reached\n"
     ]
    },
    {
     "data": {
      "image/png": "[encoded data removed]",
      "text/plain": [
       "<Figure size 432x288 with 1 Axes>"
      ]
     },
     "metadata": {
      "needs_background": "light"
     },
     "output_type": "display_data"
    },
    {
     "name": "stdout",
     "output_type": "stream",
     "text": [
      "\n",
      "Training loss: [0.907186277461733, 0.9051515643664629, 0.9026286875684953, 0.8979916849999997]\n",
      "Validation loss: [1.1505057872804312, 1.1623669812442796, 1.1684053959445402, 1.1692782516162865]\n",
      "\n",
      "Dimension of 1 hidden layer: 3\n"
     ]
    },
    {
     "name": "stderr",
     "output_type": "stream",
     "text": [
      "/Users/Marina/anaconda3/envs/myspark/lib/python3.6/site-packages/sklearn/metrics/_classification.py:1272: UndefinedMetricWarning: Precision is ill-defined and being set to 0.0 in labels with no predicted samples. Use `zero_division` parameter to control this behavior.\n",
      "  _warn_prf(average, modifier, msg_start, len(result))\n"
     ]
    },
    {
     "name": "stdout",
     "output_type": "stream",
     "text": [
      "Epoch 0: | Training loss: 1.026207, | Validation loss: 1.062192\n",
      "Epoch 1: | Training loss: 1.000012, | Validation loss: 1.046781\n",
      "Epoch 2: | Training loss: 0.986326, | Validation loss: 1.034343\n",
      "Epoch 3: | Training loss: 0.969590, | Validation loss: 1.018478\n",
      "Epoch 4: | Training loss: 0.951569, | Validation loss: 1.000047\n",
      "Epoch 5: | Training loss: 0.934163, | Validation loss: 0.979496\n",
      "Epoch 6: | Training loss: 0.918159, | Validation loss: 0.958211\n",
      "Epoch 7: | Training loss: 0.904449, | Validation loss: 0.942162\n",
      "Epoch 8: | Training loss: 0.892308, | Validation loss: 0.924690\n",
      "Epoch 9: | Training loss: 0.881222, | Validation loss: 0.907387\n",
      "Epoch 10: | Training loss: 0.872817, | Validation loss: 0.893572\n",
      "Epoch 11: | Training loss: 0.866034, | Validation loss: 0.878569\n",
      "Epoch 12: | Training loss: 0.859509, | Validation loss: 0.871610\n",
      "Epoch 13: | Training loss: 0.855427, | Validation loss: 0.862926\n",
      "Epoch 14: | Training loss: 0.851664, | Validation loss: 0.856213\n",
      "Epoch 15: | Training loss: 0.849670, | Validation loss: 0.847867\n",
      "Epoch 16: | Training loss: 0.846425, | Validation loss: 0.844386\n",
      "Epoch 17: | Training loss: 0.846437, | Validation loss: 0.836726\n",
      "Epoch 18: | Training loss: 0.843693, | Validation loss: 0.834204\n",
      "Epoch 19: | Training loss: 0.841696, | Validation loss: 0.829897\n",
      "Epoch 20: | Training loss: 0.840290, | Validation loss: 0.827103\n",
      "Epoch 21: | Training loss: 0.838023, | Validation loss: 0.824888\n",
      "Epoch 22: | Training loss: 0.837359, | Validation loss: 0.821740\n",
      "Epoch 23: | Training loss: 0.834784, | Validation loss: 0.820696\n",
      "Epoch 24: | Training loss: 0.833004, | Validation loss: 0.818880\n",
      "Epoch 25: | Training loss: 0.832273, | Validation loss: 0.816819\n",
      "Epoch 26: | Training loss: 0.830981, | Validation loss: 0.815351\n",
      "Epoch 27: | Training loss: 0.826497, | Validation loss: 0.815992\n",
      "Convergence at epoch 27 for tolerance = 0.001000 has been reached\n"
     ]
    },
    {
     "data": {
      "image/png": "[encoded data removed]",
      "text/plain": [
       "<Figure size 432x288 with 1 Axes>"
      ]
     },
     "metadata": {
      "needs_background": "light"
     },
     "output_type": "display_data"
    },
    {
     "name": "stdout",
     "output_type": "stream",
     "text": [
      "\n",
      "Training loss: [0.8330040869848141, 0.8322727750543261, 0.8309812009347061, 0.8264968921744649]\n",
      "Validation loss: [0.8188803629651709, 0.8168186991409757, 0.8153506333839222, 0.8159924831097384]\n",
      "\n",
      "Dimension of 1 hidden layer: 5\n",
      "Epoch 0: | Training loss: 0.854632, | Validation loss: 0.921192\n",
      "Epoch 1: | Training loss: 0.703860, | Validation loss: 0.800270\n",
      "Epoch 2: | Training loss: 0.612590, | Validation loss: 0.710555\n",
      "Epoch 3: | Training loss: 0.573560, | Validation loss: 0.660775\n",
      "Epoch 4: | Training loss: 0.557228, | Validation loss: 0.634035\n",
      "Epoch 5: | Training loss: 0.550121, | Validation loss: 0.620838\n",
      "Epoch 6: | Training loss: 0.548572, | Validation loss: 0.611218\n",
      "Epoch 7: | Training loss: 0.550576, | Validation loss: 0.612835\n",
      "Epoch 8: | Training loss: 0.551252, | Validation loss: 0.610564\n",
      "Epoch 9: | Training loss: 0.549650, | Validation loss: 0.608548\n",
      "Epoch 10: | Training loss: 0.551568, | Validation loss: 0.603196\n",
      "Epoch 11: | Training loss: 0.549294, | Validation loss: 0.595532\n",
      "Epoch 12: | Training loss: 0.549836, | Validation loss: 0.591280\n",
      "Epoch 13: | Training loss: 0.544190, | Validation loss: 0.580737\n",
      "Epoch 14: | Training loss: 0.545775, | Validation loss: 0.582295\n",
      "Epoch 15: | Training loss: 0.545853, | Validation loss: 0.583803\n",
      "Epoch 16: | Training loss: 0.544565, | Validation loss: 0.581178\n",
      "Epoch 17: | Training loss: 0.544544, | Validation loss: 0.580337\n",
      "Convergence at epoch 17 for tolerance = 0.001000 has been reached\n"
     ]
    },
    {
     "data": {
      "image/png": "[encoded data removed]",
      "text/plain": [
       "<Figure size 432x288 with 1 Axes>"
      ]
     },
     "metadata": {
      "needs_background": "light"
     },
     "output_type": "display_data"
    },
    {
     "name": "stdout",
     "output_type": "stream",
     "text": [
      "\n",
      "Training loss: [0.5457747354809198, 0.5458531971753456, 0.5445646411061611, 0.5445438289305518]\n",
      "Validation loss: [0.5822954401990043, 0.5838025221437746, 0.5811784322089755, 0.5803365508881781]\n",
      "\n",
      "Dimension of 1 hidden layer: 10\n",
      "Epoch 0: | Training loss: 0.097687, | Validation loss: 0.343111\n",
      "Epoch 1: | Training loss: 0.104722, | Validation loss: 0.432864\n",
      "Epoch 2: | Training loss: 0.116766, | Validation loss: 0.463013\n",
      "Epoch 3: | Training loss: 0.111923, | Validation loss: 0.568234\n",
      "Epoch 4: | Training loss: 0.103321, | Validation loss: 0.580114\n",
      "Epoch 5: | Training loss: 0.118809, | Validation loss: 0.570405\n",
      "Epoch 6: | Training loss: 0.123986, | Validation loss: 0.570895\n",
      "Convergence at epoch 6 for tolerance = 0.001000 has been reached\n"
     ]
    },
    {
     "data": {
      "image/png": "[encoded data removed]",
      "text/plain": [
       "<Figure size 432x288 with 1 Axes>"
      ]
     },
     "metadata": {
      "needs_background": "light"
     },
     "output_type": "display_data"
    },
    {
     "name": "stdout",
     "output_type": "stream",
     "text": [
      "\n",
      "Training loss: [0.11192266346589685, 0.10332083962287462, 0.11880858781998567, 0.12398584678681729]\n",
      "Validation loss: [0.5682341775198106, 0.5801138179270549, 0.5704045425778161, 0.5708953732949404]\n"
     ]
    }
   ],
   "source": [
    "hid_dim = [2,3,5,10]\n",
    "hidden_dict_glove = {}\n",
    "lr = 0.01 # the  best value for the case of pre-trained model\n",
    "emb_size = w_glove.shape[1]\n",
    "\n",
    "for hd in hid_dim:\n",
    "    print(\"\\nDimension of 1 hidden layer:\",hd)\n",
    "    hidden_dict_glove[hd]={}\n",
    "    W = network_weights(vocab_size=len(vocab), embedding_dim=emb_size, hidden_dim=[hd], num_classes=3)\n",
    "    W[0] = w_glove\n",
    "    W, loss_tr, dev_loss = SGD(X_tr, Y_tr, W, X_dev=X_dev, Y_dev=Y_dev, lr=lr, dropout=0.2, freeze_emb=True, tolerance=0.001, epochs=100, print_progress=True)\n",
    "    plot_model_loss(loss_tr, dev_loss, text_to_print= \"for Learning rate = \" + str(lr), print_last_values=True)\n",
    "    \n",
    "    preds_dev = [np.argmax(forward_pass(x, W, dropout_rate=0.0)['y'][0])+1 for x in X_dev]\n",
    "    hidden_dict_glove[hd]['accuracy'] = accuracy_score(Y_dev, preds_dev)\n",
    "    hidden_dict_glove[hd]['precision'] = precision_score(Y_dev, preds_dev, average='macro')\n",
    "    hidden_dict_glove[hd]['recall'] = recall_score(Y_dev, preds_dev, average='macro')\n",
    "    hidden_dict_glove[hd]['f1'] = f1_score(Y_dev, preds_dev, average='macro')\n",
    "    \n",
    "    del W  \n",
    "    gc.collect()"
   ]
  },
  {
   "cell_type": "code",
   "execution_count": 57,
   "metadata": {},
   "outputs": [
    {
     "data": {
      "text/html": [
       "<div>\n",
       "<style scoped>\n",
       "    .dataframe tbody tr th:only-of-type {\n",
       "        vertical-align: middle;\n",
       "    }\n",
       "\n",
       "    .dataframe tbody tr th {\n",
       "        vertical-align: top;\n",
       "    }\n",
       "\n",
       "    .dataframe thead th {\n",
       "        text-align: right;\n",
       "    }\n",
       "</style>\n",
       "<table border=\"1\" class=\"dataframe\">\n",
       "  <thead>\n",
       "    <tr style=\"text-align: right;\">\n",
       "      <th></th>\n",
       "      <th>dimension_1_hidden</th>\n",
       "      <th>accuracy</th>\n",
       "      <th>precision</th>\n",
       "      <th>recall</th>\n",
       "      <th>f1</th>\n",
       "    </tr>\n",
       "  </thead>\n",
       "  <tbody>\n",
       "    <tr>\n",
       "      <th>0</th>\n",
       "      <td>2</td>\n",
       "      <td>0.333333</td>\n",
       "      <td>0.111111</td>\n",
       "      <td>0.333333</td>\n",
       "      <td>0.166667</td>\n",
       "    </tr>\n",
       "    <tr>\n",
       "      <th>1</th>\n",
       "      <td>3</td>\n",
       "      <td>0.626667</td>\n",
       "      <td>0.453318</td>\n",
       "      <td>0.626667</td>\n",
       "      <td>0.515894</td>\n",
       "    </tr>\n",
       "    <tr>\n",
       "      <th>2</th>\n",
       "      <td>5</td>\n",
       "      <td>0.886667</td>\n",
       "      <td>0.907213</td>\n",
       "      <td>0.886667</td>\n",
       "      <td>0.886309</td>\n",
       "    </tr>\n",
       "    <tr>\n",
       "      <th>3</th>\n",
       "      <td>10</td>\n",
       "      <td>0.893333</td>\n",
       "      <td>0.902049</td>\n",
       "      <td>0.893333</td>\n",
       "      <td>0.895062</td>\n",
       "    </tr>\n",
       "  </tbody>\n",
       "</table>\n",
       "</div>"
      ],
      "text/plain": [
       "   dimension_1_hidden  accuracy  precision    recall        f1\n",
       "0                   2  0.333333   0.111111  0.333333  0.166667\n",
       "1                   3  0.626667   0.453318  0.626667  0.515894\n",
       "2                   5  0.886667   0.907213  0.886667  0.886309\n",
       "3                  10  0.893333   0.902049  0.893333  0.895062"
      ]
     },
     "execution_count": 57,
     "metadata": {},
     "output_type": "execute_result"
    }
   ],
   "source": [
    "hidden_dict_glove_scores = pd.DataFrame(hidden_dict_glove).T.reset_index()\n",
    "hidden_dict_glove_scores.rename(columns= {\"index\": \"dimension_1_hidden\"}, inplace=True)\n",
    "hidden_dict_glove_scores"
   ]
  },
  {
   "cell_type": "markdown",
   "metadata": {},
   "source": [
    "## Full Results"
   ]
  },
  {
   "cell_type": "code",
   "execution_count": 58,
   "metadata": {},
   "outputs": [
    {
     "name": "stdout",
     "output_type": "stream",
     "text": [
      "Convergence at epoch 12 for tolerance = 0.010000 has been reached\n",
      "\n",
      "Results for Average Embedding\n",
      "\n",
      "Accuracy: 0.8633333333333333\n",
      "Precision: 0.8640704956163893\n",
      "Recall: 0.8633333333333333\n",
      "F1-Score: 0.8627599715099715\n"
     ]
    },
    {
     "data": {
      "text/plain": [
       "0"
      ]
     },
     "execution_count": 58,
     "metadata": {},
     "output_type": "execute_result"
    }
   ],
   "source": [
    "# the best parameters for Average Embedding\n",
    "lr = 0.01\n",
    "emb_size = 50\n",
    "\n",
    "W = network_weights(vocab_size=len(vocab), embedding_dim=emb_size, hidden_dim=[], num_classes=3)\n",
    "W, loss_tr, dev_loss = SGD(X_tr, Y_tr, W, X_dev=X_dev, Y_dev=Y_dev, lr=lr, dropout=0.2, freeze_emb=False, tolerance=0.01, epochs=100, print_progress=False)\n",
    "print(\"\\nResults for Average Embedding\\n\")\n",
    "preds_te = [np.argmax(forward_pass(x, W, dropout_rate=0.0)['y'][0])+1 for x in X_te]\n",
    "print('Accuracy:', accuracy_score(Y_te,preds_te))\n",
    "print('Precision:', precision_score(Y_te,preds_te,average='macro'))\n",
    "print('Recall:', recall_score(Y_te,preds_te,average='macro'))\n",
    "print('F1-Score:', f1_score(Y_te,preds_te,average='macro'))\n",
    "del W  \n",
    "gc.collect()"
   ]
  },
  {
   "cell_type": "code",
   "execution_count": 59,
   "metadata": {},
   "outputs": [
    {
     "name": "stdout",
     "output_type": "stream",
     "text": [
      "Convergence at epoch 4 for tolerance = 0.010000 has been reached\n",
      "\n",
      "Results for Average Embedding (pre-trained)\n",
      "\n",
      "Accuracy: 0.8666666666666667\n",
      "Precision: 0.8686509510115233\n",
      "Recall: 0.8666666666666666\n",
      "F1-Score: 0.8666446515312874\n"
     ]
    },
    {
     "data": {
      "text/plain": [
       "0"
      ]
     },
     "execution_count": 59,
     "metadata": {},
     "output_type": "execute_result"
    }
   ],
   "source": [
    "# the best parameters for Average Embedding (pre-trained)\n",
    "lr = 0.001\n",
    "emb_size = w_glove.shape[1]\n",
    "\n",
    "W = network_weights(vocab_size=len(vocab), embedding_dim=emb_size, hidden_dim=[], num_classes=3)\n",
    "W[0] = w_glove\n",
    "W, loss_tr, dev_loss = SGD(X_tr, Y_tr, W, X_dev=X_dev, Y_dev=Y_dev, lr=lr, dropout=0.2, freeze_emb=True, tolerance=0.01, epochs=100, print_progress=False)\n",
    "print(\"\\nResults for Average Embedding (pre-trained)\\n\")\n",
    "preds_te = [np.argmax(forward_pass(x, W, dropout_rate=0.0)['y'][0])+1 for x in X_te]\n",
    "print('Accuracy:', accuracy_score(Y_te,preds_te))\n",
    "print('Precision:', precision_score(Y_te,preds_te,average='macro'))\n",
    "print('Recall:', recall_score(Y_te,preds_te,average='macro'))\n",
    "print('F1-Score:', f1_score(Y_te,preds_te,average='macro'))\n",
    "del W  \n",
    "gc.collect()"
   ]
  },
  {
   "cell_type": "code",
   "execution_count": 60,
   "metadata": {},
   "outputs": [
    {
     "name": "stdout",
     "output_type": "stream",
     "text": [
      "Convergence at epoch 32 for tolerance = 0.001000 has been reached\n",
      "\n",
      "Results for Average Embedding (Pre-trained) + 1 hidden layer\n",
      "\n",
      "Accuracy: 0.8555555555555555\n",
      "Precision: 0.8635118739785472\n",
      "Recall: 0.8555555555555555\n",
      "F1-Score: 0.8556616715377735\n"
     ]
    },
    {
     "data": {
      "text/plain": [
       "0"
      ]
     },
     "execution_count": 60,
     "metadata": {},
     "output_type": "execute_result"
    }
   ],
   "source": [
    "# the best parameters for Average Embedding (Pre-trained) + 1 hidden layer\n",
    "\n",
    "hidden_1_dim= 10 #gave 0.90 on development set and showed good\n",
    "\n",
    "W = network_weights(vocab_size=len(vocab), embedding_dim=w_glove.shape[1], hidden_dim=[hidden_1_dim], num_classes=3)\n",
    "W[0] = w_glove\n",
    "\n",
    "W, loss_tr, dev_loss = SGD(X_tr, Y_tr, W, X_dev = X_dev, Y_dev = Y_dev, lr = 0.01, dropout = 0.3, freeze_emb = True, \n",
    "                           tolerance = 0.001, epochs = 100, print_progress = False)\n",
    "\n",
    "print(\"\\nResults for Average Embedding (Pre-trained) + 1 hidden layer\\n\")\n",
    "preds_te = [np.argmax(forward_pass(x, W, dropout_rate=0.0)['y'][0])+1 for x in X_te]\n",
    "print('Accuracy:', accuracy_score(Y_te,preds_te))\n",
    "print('Precision:', precision_score(Y_te,preds_te,average='macro'))\n",
    "print('Recall:', recall_score(Y_te,preds_te,average='macro'))\n",
    "print('F1-Score:', f1_score(Y_te,preds_te,average='macro'))\n",
    "del W  \n",
    "gc.collect()"
   ]
  },
  {
   "cell_type": "markdown",
   "metadata": {},
   "source": [
    "Final results:\n",
    "\n",
    "| Model | Precision  | Recall  | F1-Score  | Accuracy\n",
    "|:-:|:-:|:-:|:-:|:-:|\n",
    "| Average Embedding  | 0.8640|  0.8633 | 0.8628 |0.8633 |\n",
    "| Average Embedding (Pre-trained)  |  0.8687 | 0.8667  |  0.8666  |0.8676\n",
    "| Average Embedding (Pre-trained) + X hidden layers (BONUS)   |  0.8635 |0.8556  |0.8557   |0.8556   |"
   ]
  },
  {
   "cell_type": "markdown",
   "metadata": {},
   "source": [
    "**Conclusion:** The best model appeared to Average embedding with usage of pretrained embeddings. Deeper neural network turned out to be very prone to overfitting, i.e. showing the best results on the validation sets among all three models it lead to the worst results on the unseen test set. At the same time, the values of all the metrics for all thrwee model are very close to each other."
   ]
  }
 ],
 "metadata": {
  "kernelspec": {
   "display_name": "myspark",
   "language": "python",
   "name": "myspark"
  },
  "language_info": {
   "codemirror_mode": {
    "name": "ipython",
    "version": 3
   },
   "file_extension": ".py",
   "mimetype": "text/x-python",
   "name": "python",
   "nbconvert_exporter": "python",
   "pygments_lexer": "ipython3",
   "version": "3.6.10"
  }
 },
 "nbformat": 4,
 "nbformat_minor": 2
}
